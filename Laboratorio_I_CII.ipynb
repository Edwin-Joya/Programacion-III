{
  "nbformat": 4,
  "nbformat_minor": 0,
  "metadata": {
    "colab": {
      "provenance": [],
      "authorship_tag": "ABX9TyPHGOYE51RJQR39PasycMTz",
      "include_colab_link": true
    },
    "kernelspec": {
      "name": "python3",
      "display_name": "Python 3"
    },
    "language_info": {
      "name": "python"
    }
  },
  "cells": [
    {
      "cell_type": "markdown",
      "metadata": {
        "id": "view-in-github",
        "colab_type": "text"
      },
      "source": [
        "<a href=\"https://colab.research.google.com/github/Edwin-Joya/Programacion-III/blob/main/Laboratorio_I_CII.ipynb\" target=\"_parent\"><img src=\"https://colab.research.google.com/assets/colab-badge.svg\" alt=\"Open In Colab\"/></a>"
      ]
    },
    {
      "cell_type": "markdown",
      "source": [
        "# Ejercicios practicos\n",
        "# ** utilizacion de tarjeta de credito**\n",
        "\n",
        "**Integrantes:**\n",
        "\n",
        "María del Carmen Rodriguez Martinez USIS936021 \n",
        "\n",
        "Génesis Scarlet Hernández Hernández USIS041221\n",
        "\n",
        "Alan Derek Henríquez Monterrosa         USIS003421 "
      ],
      "metadata": {
        "id": "bWIneTh9QTxd"
      }
    },
    {
      "cell_type": "code",
      "source": [
        "import pandas as pd\n",
        "import matplotlib.pyplot as plt"
      ],
      "metadata": {
        "id": "UnC4n_iuQXa0"
      },
      "execution_count": 1,
      "outputs": []
    },
    {
      "cell_type": "code",
      "source": [
        "tarjetas = pd.read_csv(\"/content/trx_tarjetas_credito.csv\", sep=\",\", encoding=\"utf-8\")\n",
        "print(tarjetas)"
      ],
      "metadata": {
        "id": "nxGQTacxQb5A"
      },
      "execution_count": null,
      "outputs": []
    },
    {
      "cell_type": "code",
      "source": [
        "#Utlizacion de tarjetas de credito por sexo\n",
        "genero = pd.crosstab(index = tarjetas[\"Gender\"], columns = \"fr\")\n",
        "print(genero)"
      ],
      "metadata": {
        "colab": {
          "base_uri": "https://localhost:8080/"
        },
        "id": "xX3ysQ4vQcSy",
        "outputId": "c30af551-4f0b-48ab-a464-e5eda6e08370"
      },
      "execution_count": 4,
      "outputs": [
        {
          "output_type": "stream",
          "name": "stdout",
          "text": [
            "col_0      fr\n",
            "Gender       \n",
            "F       13680\n",
            "M       12372\n"
          ]
        }
      ]
    },
    {
      "cell_type": "code",
      "source": [
        "#Total en dolares utilizados diferenciando tarjetas de credito por ciudad\n",
        "ciudad = (tarjetas.groupby([\"City\", \"Card Type\"]).sum())\n",
        "print(ciudad)\n",
        "#print(tarjetas.groupby([\"City\", \"Card Type\"]).sum())"
      ],
      "metadata": {
        "colab": {
          "base_uri": "https://localhost:8080/"
        },
        "id": "-qf08zEnQckw",
        "outputId": "46230181-fcd5-4ab3-f1d8-6af929c1a19d"
      },
      "execution_count": 5,
      "outputs": [
        {
          "output_type": "stream",
          "name": "stdout",
          "text": [
            "                            Amount\n",
            "City             Card Type        \n",
            "Achalpur, India  Gold       679992\n",
            "                 Platinum   178612\n",
            "                 Signature  547005\n",
            "                 Silver     201032\n",
            "Adilabad, India  Gold        49020\n",
            "...                            ...\n",
            "Zira, India      Signature  218424\n",
            "                 Silver      98224\n",
            "Zirakpur, India  Platinum   549663\n",
            "Zunheboto, India Signature   89271\n",
            "                 Silver     377158\n",
            "\n",
            "[3104 rows x 1 columns]\n"
          ]
        }
      ]
    },
    {
      "cell_type": "code",
      "source": [
        "#Total utilizado por tipo de gasto\n",
        "gasto = (tarjetas.groupby([\"Exp Type\"]).sum().groupby(level = [0]).cumsum())\n",
        "print(gasto)\n",
        "#print(tarjetas.groupby([\"Exp Type\"]).sum().groupby(level = [0]).cumsum())"
      ],
      "metadata": {
        "colab": {
          "base_uri": "https://localhost:8080/"
        },
        "id": "QJcekpvXQcyf",
        "outputId": "4b3fa75e-bd40-4490-d0df-8ddbb1355a9b"
      },
      "execution_count": 6,
      "outputs": [
        {
          "output_type": "stream",
          "name": "stdout",
          "text": [
            "                  Amount\n",
            "Exp Type                \n",
            "Bills          907072473\n",
            "Entertainment  726437536\n",
            "Food           824724009\n",
            "Fuel           789135821\n",
            "Grocery        718207923\n",
            "Travel         109255611\n"
          ]
        }
      ]
    },
    {
      "cell_type": "code",
      "source": [
        "#Utlizacion de tarjetas de credito por sexo grafico\n",
        "tabla = pd.crosstab(index=tarjetas[\"Gender\"], columns=\"fr\")\n",
        "plt.pie(tabla, labels=tabla.index, autopct=\"%0.1f %%\")\n",
        "plt.xlabel(\"Utilizacion de tarjetas por sexo\")\n",
        "plt.show()\n"
      ],
      "metadata": {
        "id": "Ya6O7MAHQc_i"
      },
      "execution_count": null,
      "outputs": []
    },
    {
      "cell_type": "code",
      "source": [],
      "metadata": {
        "id": "LRAeClwuRDfs"
      },
      "execution_count": null,
      "outputs": []
    },
    {
      "cell_type": "code",
      "source": [
        "#Utilizacion de tarjetas por genero\n",
        "genero.to_excel(\"/content/tarjetasGenero.xlsx\", sep=\";\")"
      ],
      "metadata": {
        "id": "3gXGbzilQ6B8"
      },
      "execution_count": null,
      "outputs": []
    },
    {
      "cell_type": "code",
      "source": [
        "#Total de dolares utilizados por ciudad\n",
        "ciudad.to_excel(\"/content/tarjetasporciudad.xlsx\", sep=\";\")"
      ],
      "metadata": {
        "id": "WwxdTuUbQ-sz"
      },
      "execution_count": null,
      "outputs": []
    },
    {
      "cell_type": "code",
      "source": [
        "#Total utilizado por tipo de gasto\n",
        "gasto.to_excel(\"/content/totalutilizadoportipo.xlsx\", sep=\";\")"
      ],
      "metadata": {
        "id": "fXDz3-29RC3e"
      },
      "execution_count": null,
      "outputs": []
    }
  ]
}