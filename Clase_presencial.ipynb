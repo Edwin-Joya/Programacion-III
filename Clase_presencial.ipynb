{
  "nbformat": 4,
  "nbformat_minor": 0,
  "metadata": {
    "colab": {
      "provenance": [],
      "collapsed_sections": [],
      "mount_file_id": "1Y5THkCaveqjBPuwNPh7wuh-vidJl__Bm",
      "authorship_tag": "ABX9TyNE3+SgttK/3CDyiUGWs26o",
      "include_colab_link": true
    },
    "kernelspec": {
      "name": "python3",
      "display_name": "Python 3"
    },
    "language_info": {
      "name": "python"
    }
  },
  "cells": [
    {
      "cell_type": "markdown",
      "metadata": {
        "id": "view-in-github",
        "colab_type": "text"
      },
      "source": [
        "<a href=\"https://colab.research.google.com/github/Edwin-Joya/Programacion-III/blob/main/Clase_presencial.ipynb\" target=\"_parent\"><img src=\"https://colab.research.google.com/assets/colab-badge.svg\" alt=\"Open In Colab\"/></a>"
      ]
    },
    {
      "cell_type": "code",
      "execution_count": null,
      "metadata": {
        "colab": {
          "base_uri": "https://localhost:8080/"
        },
        "id": "eHjbe5POtzX-",
        "outputId": "936eefc1-43d0-4c74-9739-a37cf24b3d33"
      },
      "outputs": [
        {
          "output_type": "stream",
          "name": "stdout",
          "text": [
            "Hola mundo Bienvenidos a programacion computacional III  Edwin Osmin Joya Colato\n"
          ]
        }
      ],
      "source": [
        "print(\"Hola mundo\", \"Bienvenidos a programacion computacional III\",\" Edwin Osmin Joya Colato\")"
      ]
    },
    {
      "cell_type": "code",
      "source": [
        "nombre = \"Edwin Joya\"\n",
        "print(nombre)"
      ],
      "metadata": {
        "id": "hobkz2D30s5W",
        "colab": {
          "base_uri": "https://localhost:8080/"
        },
        "outputId": "cbe4149f-c295-4a4d-ff65-42bc807945b0"
      },
      "execution_count": null,
      "outputs": [
        {
          "output_type": "stream",
          "name": "stdout",
          "text": [
            "Edwin Joya\n"
          ]
        }
      ]
    },
    {
      "cell_type": "code",
      "source": [
        "#conversor de celsius a f\n",
        "def cf(c):\n",
        "   return c*9/5+32\n",
        "  "
      ],
      "metadata": {
        "id": "y2bRpdz5upZv"
      },
      "execution_count": null,
      "outputs": []
    },
    {
      "cell_type": "code",
      "source": [
        "c = float(input(\"Grados C:\"))\n",
        "print(\"G.C a F\",cf(c))\n"
      ],
      "metadata": {
        "colab": {
          "base_uri": "https://localhost:8080/"
        },
        "id": "trcYYiiJvNzn",
        "outputId": "5b087f85-7498-456d-f218-e0dab5d3da7e"
      },
      "execution_count": null,
      "outputs": [
        {
          "output_type": "stream",
          "name": "stdout",
          "text": [
            "Grados C:27\n",
            "G.C a F 80.6\n"
          ]
        }
      ]
    },
    {
      "cell_type": "code",
      "source": [
        "grados = lambda c: c*9/5 +32\n",
        "c = int(input(\"Grados C:\"))\n",
        "print(grados(c))"
      ],
      "metadata": {
        "colab": {
          "base_uri": "https://localhost:8080/"
        },
        "id": "quQkMUe9xY7l",
        "outputId": "361d61f5-99ea-4ea1-9d32-d4393fa6dd28"
      },
      "execution_count": null,
      "outputs": [
        {
          "output_type": "stream",
          "name": "stdout",
          "text": [
            "Grados C:27\n",
            "80.6\n"
          ]
        }
      ]
    },
    {
      "cell_type": "code",
      "source": [
        "celsius = lambda c: c*9/5 +32\n",
        "c= int(input(\"Grados Celsius a convertir:\"))\n",
        "\n",
        "print( celsius(c))"
      ],
      "metadata": {
        "colab": {
          "base_uri": "https://localhost:8080/"
        },
        "id": "JGpzhN8wzwgO",
        "outputId": "e751b4e9-ebfe-453c-e127-59aaed3478c4"
      },
      "execution_count": null,
      "outputs": [
        {
          "output_type": "stream",
          "name": "stdout",
          "text": [
            "Grados Celsius a convertir:27\n",
            "80.6\n"
          ]
        }
      ]
    },
    {
      "cell_type": "code",
      "source": [
        "gradosc = [27,30,35,40,45]\n",
        "grados = lambda c: c*1.8 +32\n",
        "f = list( map(grados, gradosc))\n",
        "print(f)\n"
      ],
      "metadata": {
        "colab": {
          "base_uri": "https://localhost:8080/"
        },
        "id": "Acjf89sS0jIY",
        "outputId": "3f0ec190-cdfb-4363-e031-d4a17b7a2590"
      },
      "execution_count": null,
      "outputs": [
        {
          "output_type": "stream",
          "name": "stdout",
          "text": [
            "[80.6, 86.0, 95.0, 104.0, 113.0]\n"
          ]
        }
      ]
    },
    {
      "cell_type": "code",
      "source": [
        "gradosc = [80.6,86,95,104,113]\n",
        "grados = lambda f: (f-32)*5/9\n",
        "f = list( map(grados, gradosc))\n",
        "print(f)\n"
      ],
      "metadata": {
        "colab": {
          "base_uri": "https://localhost:8080/"
        },
        "id": "OULZTAjr3_9h",
        "outputId": "cd9282a9-111a-4685-cf6b-8789d9b1502f"
      },
      "execution_count": null,
      "outputs": [
        {
          "output_type": "stream",
          "name": "stdout",
          "text": [
            "[26.999999999999996, 30.0, 35.0, 40.0, 45.0]\n"
          ]
        }
      ]
    },
    {
      "cell_type": "code",
      "source": [
        "#Ejercicio Miercoles 17 \n",
        "#Algoritmo en python que convierte de celsius a kelvin y viceversa\n",
        "\n",
        "gradosc = [27,30,35,40,45]\n",
        "gradosk = [300.15,303.15,308.15,313.15,318.15]\n",
        "\n",
        "grados = lambda k: (k+273.15)\n",
        "gradoss = lambda c: (c-273.15)\n",
        "\n",
        "k = list( map(grados, gradosc))\n",
        "\n",
        "c = list( map(gradoss, gradosk))\n",
        "print(\"Grados C a kelvin\",(k))\n",
        "print(\"Grados K a Celsius\",(c))"
      ],
      "metadata": {
        "colab": {
          "base_uri": "https://localhost:8080/"
        },
        "id": "YyvutdTG6CzM",
        "outputId": "5d560857-b596-4b13-8aeb-d36ed4d6ad96"
      },
      "execution_count": null,
      "outputs": [
        {
          "output_type": "stream",
          "name": "stdout",
          "text": [
            "Grados C a kelvin [300.15, 303.15, 308.15, 313.15, 318.15]\n",
            "Grados K a Celsius [27.0, 30.0, 35.0, 40.0, 45.0]\n"
          ]
        }
      ]
    },
    {
      "cell_type": "code",
      "source": [
        "saludo = \"hola\"\n",
        "print(saludo + \" Mundo\")\n",
        "print( saludo[0],saludo[1])"
      ],
      "metadata": {
        "colab": {
          "base_uri": "https://localhost:8080/"
        },
        "id": "1KBRZSrl3ZLU",
        "outputId": "b88a2907-ce2e-42fe-e5f6-81c0f08e1036"
      },
      "execution_count": null,
      "outputs": [
        {
          "output_type": "stream",
          "name": "stdout",
          "text": [
            "hola Mundo\n",
            "h o\n"
          ]
        }
      ]
    },
    {
      "cell_type": "markdown",
      "source": [
        "Conversor de divisas\n",
        "Dolares,Quetzalez, Lempiras, Cordobas, Pesos CR, Euros, Colon SV, Yenes, Soles Peruanos"
      ],
      "metadata": {
        "id": "l-NsZGhM3mOs"
      }
    },
    {
      "cell_type": "code",
      "source": [
        "#Conversor de monedas 1/3\n",
        "divisas = [\"seleccione una divisa\", \"Dolares\",\n",
        "           \"Quetzalez\", \"Lempiras\",\"Cordobas\",\n",
        "           \"Pesos CR\",\"Euros\",\"Colon SV\", \n",
        "           \"Yenes\",\"Soles Peruanos\"\n",
        "           \n",
        "           \n",
        "]\n",
        "valores =[0,1,7.71, 24.51, 35.77, 664.64, 0.98, 8.75, 134.13, 3.84]\n",
        "\n"
      ],
      "metadata": {
        "id": "uVbSTa2t_vQ-"
      },
      "execution_count": null,
      "outputs": []
    },
    {
      "cell_type": "code",
      "source": [
        "#Formula Universal de conversion 2/3\n",
        "def convertir(de, a, cantidad):\n",
        " return valores[a] / valores[de]* cantidad"
      ],
      "metadata": {
        "id": "gU_Zp4pe7Uf1"
      },
      "execution_count": null,
      "outputs": []
    },
    {
      "cell_type": "code",
      "source": [
        "#Menu de conversion de divisas 3/3\n",
        "print(\"*** MENU ***\")\n",
        "print(\"Seleccione una divisa\")\n",
        "print(\"1.Dolares\")\n",
        "print(\"2.Quetzalez\")\n",
        "print(\"3.Lempiras\")\n",
        "print(\"4.Cordobas\")\n",
        "print(\"5.Pesos CR\")\n",
        "print(\"6.Euros\")\n",
        "print(\"7.Colon SV\")\n",
        "print(\"8.Yenes\")\n",
        "print(\"9.Soles Peruanos\")\n",
        "\n",
        "\n"
      ],
      "metadata": {
        "id": "MAkhoNcU7Nlg",
        "colab": {
          "base_uri": "https://localhost:8080/"
        },
        "outputId": "3b42ef77-a71b-4434-9576-30f18b368fdb"
      },
      "execution_count": null,
      "outputs": [
        {
          "output_type": "stream",
          "name": "stdout",
          "text": [
            "*** MENU ***\n",
            "Seleccione una divisa\n",
            "1.Dolares\n",
            "2.Quetzalez\n",
            "3.Lempiras\n",
            "4.Cordobas\n",
            "5.Pesos CR\n",
            "6.Euros\n",
            "7.Colon SV\n",
            "8.Yenes\n",
            "9.Soles Peruanos\n"
          ]
        }
      ]
    },
    {
      "cell_type": "code",
      "source": [
        "de = int(input(\"De: \"))\n",
        "a = int(input(\"A: \"))\n",
        "cantidad = float(input(\"Cantidad: \"))\n",
        "\n",
        "print( divisas[de], \" a \", divisas[a], \"es\", convertir(de, a, cantidad))"
      ],
      "metadata": {
        "colab": {
          "base_uri": "https://localhost:8080/"
        },
        "id": "Nthqy6wf8kt8",
        "outputId": "d57cb248-f2fc-4eaf-8faf-514ce78e3fbb"
      },
      "execution_count": null,
      "outputs": [
        {
          "output_type": "stream",
          "name": "stdout",
          "text": [
            "De: 6\n",
            "A: 2\n",
            "Cantidad: 10\n",
            "Euros  a  Quetzalez es 78.6734693877551\n"
          ]
        }
      ]
    },
    {
      "cell_type": "code",
      "source": [
        "#if condicional si\n",
        "\n",
        "edad = int(input(\"Dime tu edad: \"))\n",
        "if (edad<=2):\n",
        "  print(\"Eres un bebé\")\n",
        "elif(edad<12):\n",
        "  print(\"Eres un niño\")\n",
        "elif(edad<18):\n",
        "  print(\"Eres un adolescente\")\n",
        "elif(edad<65):\n",
        "  print(\"Eres mayor de edad, Tienes responsabilidades\")\n",
        "elif(edad<80):\n",
        "  print(\"Eres un adulto mayor\")\n",
        "else:\n",
        "  print(\"Larga vida\")\n"
      ],
      "metadata": {
        "colab": {
          "base_uri": "https://localhost:8080/"
        },
        "id": "_9HBNvwnbv5p",
        "outputId": "82a878b5-cd0d-475b-dfd3-c11d3488db6a"
      },
      "execution_count": null,
      "outputs": [
        {
          "output_type": "stream",
          "name": "stdout",
          "text": [
            "Dime tu edad: 2\n",
            "Eres un bebé\n"
          ]
        }
      ]
    },
    {
      "cell_type": "code",
      "source": [
        "#Ciclos, while y for\n",
        "#obtenga la tabla de multiplicar de x numero dada por el usuario\n",
        "#while\n",
        "ntabla = int(input(\"Tabla: \"))\n",
        "i=1\n",
        "while(i<=10):\n",
        "  print(ntabla, \"X\", i, \"=\", ntabla*i)\n",
        "  i+=1"
      ],
      "metadata": {
        "id": "18W1Mym_dl_e"
      },
      "execution_count": null,
      "outputs": []
    },
    {
      "cell_type": "code",
      "source": [
        "ntabla = int(input(\"Tabla: \"))\n",
        "for i in range(1, 11):\n",
        "  print(ntabla, \"X\", i, \"=\", ntabla*i)"
      ],
      "metadata": {
        "id": "5uS2SOLzgLHA"
      },
      "execution_count": null,
      "outputs": []
    },
    {
      "cell_type": "code",
      "source": [
        "s=\"s\"\n",
        "while s==\"s\":\n",
        "  ntabla = int(input(\"tabla:\"))\n",
        "  for i in range(1,11):\n",
        "    print(ntabla,\"X\", i, \"=\",ntabla*i)\n",
        "  s = input(\"Continuar s, Cualquier otra tecla para salir\")\n",
        "print(\"Salistes\")"
      ],
      "metadata": {
        "colab": {
          "base_uri": "https://localhost:8080/"
        },
        "id": "iayWe-wWgLXc",
        "outputId": "53c6ae21-ae72-443c-b8f1-67dabd7312bc"
      },
      "execution_count": null,
      "outputs": [
        {
          "output_type": "stream",
          "name": "stdout",
          "text": [
            "tabla:1\n",
            "1 X 1 = 1\n",
            "1 X 2 = 2\n",
            "1 X 3 = 3\n",
            "1 X 4 = 4\n",
            "1 X 5 = 5\n",
            "1 X 6 = 6\n",
            "1 X 7 = 7\n",
            "1 X 8 = 8\n",
            "1 X 9 = 9\n",
            "1 X 10 = 10\n",
            "Continuar s, Cualquier otra tecla para saliru\n",
            "Salistes\n"
          ]
        }
      ]
    },
    {
      "cell_type": "code",
      "source": [
        "def convertir(conversor, de, a, cantidad):\n",
        "  return valores[conversor][a] / valores[conversor][de] * cantidad"
      ],
      "metadata": {
        "id": "jHtbJGlBHUz4"
      },
      "execution_count": null,
      "outputs": []
    },
    {
      "cell_type": "code",
      "source": [
        "etiquetas = [\n",
        "  [],\n",
        "  [\"Seleccione una divisa\", \"1. Dolares\", \n",
        "            \"2. Quetzalez\", \"3. Lempiras\", \"4. Cordobas\", \n",
        "            \"5. Pesos CR\", \"6. Euros\", \"7. Colon SV\", \n",
        "            \"8. Yenes\", \"9. Soles Peruanos\", \"10. Libras esterlinas\"\n",
        "  ],\n",
        "  [\"Seleccione una opcion\", \"1. Metro\", \"2. Milimetro\", \n",
        "    \"3. Centimetro\", \n",
        "    \"4. Pie\", \"5. Varas\", \"6. Yardas\", \"7. Km\", \"8. Millas\"],\n",
        "  [\"Sleccione una opcion\", \"1. Gigabyte\", \"2. Megabyte\", \"3. Kilobyte\"] #Almacenamiento\n",
        "]\n",
        "valores = [[],\n",
        "    [0,1, 7.71, 24.51, 35.77, 664.64, 0.98, 8.75, 134.13, 3.84, 0.86], #divisas\n",
        "    [0, 1, 1000, 100, 3.28084, 1.1963081929167, 1.0936133, 0.001, 0.000621371], #longitudes\n",
        "    [0,1, 1000, 1000000]\n",
        "]"
      ],
      "metadata": {
        "id": "AHWU577CGiO1"
      },
      "execution_count": null,
      "outputs": []
    },
    {
      "cell_type": "code",
      "source": [
        "print(\"**MENU - CONVERSOR**\")\n",
        "print(\"1. Divisas\")\n",
        "print(\"2. Longitud\")\n",
        "print(\"3. Almacenamiento\")\n",
        "opcion = int(input(\"Conversor: \"))\n",
        "print(\"CONVERSOR ELEGIDO: \", etiquetas[opcion])\n",
        "de = int(input(\"DE: \"))\n",
        "a = int(input(\"A: \"))\n",
        "cantidad = int(input(\"Cantidad: \"))\n",
        "print( \"COnversion de \", etiquetas[opcion][de], \" a \", etiquetas[opcion][a], \" equivale a \", convertir(opcion, de, a, cantidad) )"
      ],
      "metadata": {
        "colab": {
          "base_uri": "https://localhost:8080/"
        },
        "id": "FZHAER9uHksd",
        "outputId": "51ab0e34-de44-4b0b-8843-2f26f61d602d"
      },
      "execution_count": null,
      "outputs": [
        {
          "output_type": "stream",
          "name": "stdout",
          "text": [
            "**MENU - CONVERSOR**\n",
            "1. Divisas\n",
            "2. Longitud\n",
            "3. Almacenamiento\n",
            "Conversor: 1\n",
            "CONVERSOR ELEGIDO:  ['Seleccione una divisa', '1. Dolares', '2. Quetzalez', '3. Lempiras', '4. Cordobas', '5. Pesos CR', '6. Euros', '7. Colon SV', '8. Yenes', '9. Soles Peruanos', '10 Libras esterlinas']\n",
            "DE: 1\n",
            "A: 10\n",
            "Cantidad: 100\n",
            "COnversion de  1. Dolares  a  10 Libras esterlinas  equivale a  86.0\n"
          ]
        }
      ]
    },
    {
      "cell_type": "code",
      "source": [
        "#Ejercicio 1\n",
        "sueldo = float(input(\"Escriba su sueldo \"))\n",
        "deducciones = [3,6,25,27]\n",
        "\n",
        "ISSS = (sueldo*deducciones[0])/100\n",
        "AFP = (sueldo*deducciones[1])/100\n",
        "ISR = (sueldo*deducciones[2])/100\n",
        "\n",
        "dctoTotal = ISSS+AFP+ISR\n",
        "total = sueldo-dctoTotal\n",
        "\n",
        "print(\"**Deducciones**\")\n",
        "print(\"ISSS: \", ISSS)\n",
        "print(\"AFP: \",AFP)\n",
        "print(\"ISR: \",ISR)\n",
        "print(\"**Sueldo Total**\")\n",
        "print(\"Sueldo Neto: \",total)\n",
        "\n"
      ],
      "metadata": {
        "colab": {
          "base_uri": "https://localhost:8080/"
        },
        "id": "VIHf8N_vLWgl",
        "outputId": "01e0c00a-5ced-46e5-a057-cd669e5ff3b8"
      },
      "execution_count": null,
      "outputs": [
        {
          "output_type": "stream",
          "name": "stdout",
          "text": [
            "Escriba su sueldo 1500\n",
            "**Deducciones**\n",
            "ISSS:  45.0\n",
            "AFP:  90.0\n",
            "ISR:  375.0\n",
            "**Sueldo Total**\n",
            "Sueldo Neto:  990.0\n"
          ]
        }
      ]
    },
    {
      "cell_type": "markdown",
      "source": [
        "**ESTRUCTURAS DE CONTROL**"
      ],
      "metadata": {
        "id": "Cfis0AD55xwH"
      }
    },
    {
      "cell_type": "code",
      "source": [
        "#if condicional si\n",
        "\n",
        "edad = int(input(\"Dime tu edad: \"))\n",
        "if(edad<=2):\n",
        "  print(\"Eres un bebe\")\n",
        "elif(edad<12):\n",
        "  print(\"Edad un niño\")\n",
        "elif (edad<18):\n",
        "  print(\"Eres un adolescente\")\n",
        "elif(edad<65):\n",
        "  print(\"Eres mayor de edad, tienes responsabilidades\")\n",
        "elif(edad<80):\n",
        "  print(\"Eres un adulto mayor\")\n",
        "else:\n",
        "  print(\"Larga vida\")"
      ],
      "metadata": {
        "id": "sKySj45W5rQw"
      },
      "execution_count": null,
      "outputs": []
    },
    {
      "cell_type": "code",
      "source": [
        "#Ciclos, while y for\n",
        "#obtenga la tabla de multiplicar de x numero dada por el usuario\n",
        "#while\n",
        "ntabla = int(input(\"Tabla: \"))\n",
        "i=1\n",
        "while(i<=10):\n",
        "  print(ntabla, \"X\", i, \"=\", ntabla*i)\n",
        "  i+=1"
      ],
      "metadata": {
        "colab": {
          "base_uri": "https://localhost:8080/"
        },
        "id": "JbOPpSQe54W9",
        "outputId": "9102c174-24ca-466e-8a89-98c9e66403d3"
      },
      "execution_count": null,
      "outputs": [
        {
          "output_type": "stream",
          "name": "stdout",
          "text": [
            "Tabla: 3\n",
            "3 X 1 = 3\n",
            "3 X 2 = 6\n",
            "3 X 3 = 9\n",
            "3 X 4 = 12\n",
            "3 X 5 = 15\n",
            "3 X 6 = 18\n",
            "3 X 7 = 21\n",
            "3 X 8 = 24\n",
            "3 X 9 = 27\n",
            "3 X 10 = 30\n"
          ]
        }
      ]
    },
    {
      "cell_type": "code",
      "source": [
        "ntabla = int(input(\"Tabla: \"))\n",
        "for i in range(1, 11):\n",
        "  print(ntabla, \"X\", i, \"=\", ntabla*i)"
      ],
      "metadata": {
        "id": "iK1oFm8j572V",
        "colab": {
          "base_uri": "https://localhost:8080/"
        },
        "outputId": "293a4e8a-01ec-40ab-ae80-f83994d42ace"
      },
      "execution_count": null,
      "outputs": [
        {
          "output_type": "stream",
          "name": "stdout",
          "text": [
            "Tabla: 1\n",
            "1 X 1 = 1\n",
            "1 X 2 = 2\n",
            "1 X 3 = 3\n",
            "1 X 4 = 4\n",
            "1 X 5 = 5\n",
            "1 X 6 = 6\n",
            "1 X 7 = 7\n",
            "1 X 8 = 8\n",
            "1 X 9 = 9\n",
            "1 X 10 = 10\n"
          ]
        }
      ]
    },
    {
      "cell_type": "code",
      "source": [
        "#HAcer un programa en python que genera la tabla de multiplicar dada por el usuario, hasta que el usuario desida salir\n",
        "s=\"s\"\n",
        "while s==\"s\":\n",
        "  ntabla = int(input(\"Tabla: \"))\n",
        "  for i in range(1,11):\n",
        "    print(ntabla, \"X\", i, \"=\", ntabla*i)\n",
        "  s = input(\"Continuar s, cualquier otra tecla para salir \")\n",
        "print(\"Salistes...\")"
      ],
      "metadata": {
        "id": "cKWWTzSr5-TV"
      },
      "execution_count": null,
      "outputs": []
    },
    {
      "cell_type": "code",
      "source": [
        "def convertir(conversor, de, a, cantidad):\n",
        "  return valores[conversor][a] / valores[conversor][de] * cantidad"
      ],
      "metadata": {
        "id": "1oZyswY-6Ax9"
      },
      "execution_count": null,
      "outputs": []
    },
    {
      "cell_type": "code",
      "source": [
        "etiquetas = [\n",
        "  [],\n",
        "  [\"Seleccione una divisa\", \"1. Dolares\", \n",
        "            \"2. Quetzalez\", \"3. Lempiras\", \"4. Cordobas\", \n",
        "            \"5. Pesos CR\", \"6. Euros\", \"7. Colon SV\", \n",
        "            \"8. Yenes\", \"9. Soles Peruanos\"\n",
        "  ],\n",
        "  [\"Seleccione una opcion\", \"1. Metro\", \"2. Milimetro\", \n",
        "    \"3. Centimetro\", \n",
        "    \"4. Pie\", \"5. Varas\", \"6. Yardas\", \"7. Km\", \"8. Millas\"],\n",
        "  [\"Sleccione una opcion\", \"1. Gigabyte\", \"2. Megabyte\", \"3. Kilobyte\"] #Almacenamiento\n",
        "]\n",
        "valores = [[],\n",
        "    [0,1, 7.71, 24.51, 35.77, 664.64, 0.98, 8.75, 134.13, 3.84], #divisas\n",
        "    [0, 1, 1000, 100, 3.28084, 1.1963081929167, 1.0936133, 0.001, 0.000621371], #longitudes\n",
        "    [0,1, 1000, 1000000]"
      ],
      "metadata": {
        "id": "TlWSOhTA6Gu0"
      },
      "execution_count": null,
      "outputs": []
    },
    {
      "cell_type": "code",
      "source": [
        "print(\"**MENU - CONVERSOR**\")\n",
        "print(\"1. Divisas\")\n",
        "print(\"2. Longitud\")\n",
        "print(\"3. Almacenamiento\")\n",
        "opcion = int(input(\"Conversor: \"))\n",
        "print(\"CONVERSOR ELEGIDO: \", etiquetas[opcion])\n",
        "de = int(input(\"DE: \"))\n",
        "a = int(input(\"A: \"))\n",
        "cantidad = int(input(\"Cantidad: \"))\n",
        "print( \"COnversion de \", etiquetas[opcion][de], \" a \", etiquetas[opcion][a], \" equivale a \", convertir(opcion, de, a, cantidad) )"
      ],
      "metadata": {
        "id": "-y2mXBIR6PGE"
      },
      "execution_count": null,
      "outputs": []
    },
    {
      "cell_type": "markdown",
      "source": [
        "**PARCIAL 1**"
      ],
      "metadata": {
        "id": "d5TofOUdzB1F"
      }
    },
    {
      "cell_type": "code",
      "source": [
        "#Ejercicio 1\n",
        "sueldo = float(input(\"Escriba su sueldo \"))\n",
        "deducciones = [3,6,25,27]\n",
        "\n",
        "ISSS = (sueldo*deducciones[0])/100\n",
        "AFP = (sueldo*deducciones[1])/100\n",
        "ISR = (sueldo*deducciones[2])/100\n",
        "\n",
        "dctoTotal = ISSS+AFP+ISR\n",
        "total = sueldo-dctoTotal\n",
        "\n",
        "print(\"**Deducciones**\")\n",
        "print(\"ISSS: \", ISSS)\n",
        "print(\"AFP: \",AFP)\n",
        "print(\"ISR: \",ISR)\n",
        "print(\"**Sueldo Total**\")\n",
        "print(\"Sueldo Neto: \",total)\n",
        "\n"
      ],
      "metadata": {
        "id": "--xMNSCU6TPl",
        "colab": {
          "base_uri": "https://localhost:8080/"
        },
        "outputId": "90dde5b6-2c3f-4a99-cf54-033a30d1c37a"
      },
      "execution_count": null,
      "outputs": [
        {
          "output_type": "stream",
          "name": "stdout",
          "text": [
            "Escriba su sueldo 1000\n",
            "**Deducciones**\n",
            "ISSS:  30.0\n",
            "AFP:  60.0\n",
            "ISR:  250.0\n",
            "**Sueldo Total**\n",
            "Sueldo Neto:  660.0\n"
          ]
        }
      ]
    },
    {
      "cell_type": "markdown",
      "source": [
        "**PARCIAL**"
      ],
      "metadata": {
        "id": "fMATXttErh-T"
      }
    },
    {
      "cell_type": "code",
      "source": [
        "#Ejercicio 1 parcial\n",
        "salario = float (input(\"Ingresa tu sueldo: \"))\n",
        "tpoTrabajo = int(input(\"Escribe el tiempo que llevas en la empresa (En años) **nota** Escribe 0 si llevas menos de 1 año:\"))\n",
        "AFP = round(salario*0.0725,2)\n",
        "AFP2 = round(salario*0.0775,2)\n",
        "ISSS = salario*0.03\n",
        "ISSS2 = salario*0.075\n",
        "tramo = salario-AFP-ISSS\n",
        "neto = salario-AFP-30.0\n",
        "quince = round(tramo/2,2)\n",
        "vacaciones = quince*0.3\n",
        "totalv = round(vacaciones+quince, 2)\n",
        "\n",
        "\n",
        "if (tramo <= 472):\n",
        "  \n",
        "\n",
        "  print(\"ISSS:.................\",ISSS , \"\\nISSS Patronal:....... \", ISSS2, \"\\nAFP:..................\", AFP , \"\\nAFP Patronal:.........\", AFP2,\"\\nISR:.................. 0\", \"\\nSalario neto mensual: \", tramo , \"\\n\\n***Sueldo por vacaciones***\",\n",
        "        \"\\nSalario quincenal:   \", quince, \"\\nTotal por vacaciones \",totalv )\n",
        "  \n",
        "elif(tramo>=472.01) and (tramo<=895.24):\n",
        "  \n",
        "  renta = round((tramo-472.01)*0.10+17.67,2)\n",
        "  Sneto = round(tramo - renta,2)\n",
        "  print(\"ISSS:.................\",ISSS , \"\\nISSS Patronal:........\", ISSS2, \"\\nAFP:..................\", AFP , \"\\nAFP Patronal:.........\", AFP2,\"\\nISR:..................\", renta,  \"\\nSalario neto mensual: \", Sneto , \"\\n\\n***Sueldo por vacaciones***\",\n",
        "        \"\\nSalario quincenal:    \", quince, \"\\nTotal por vacaciones: \",totalv )\n",
        "\n",
        "elif(tramo>=895.25) and (tramo<=2038.10):\n",
        " if(tramo>=1000):\n",
        "\n",
        "   renta = round((neto-895.25)*0.20+60,2)\n",
        "   Sneto = round(neto - renta,2)\n",
        "   print(\"ISSS:................. 30.0\", \"\\nISSS Patronal:........ 75.0\", \"\\nAFP:..................\", AFP , \"\\nAFP Patronal:.........\", AFP2,\"\\nISR:..................\", renta,  \"\\nSalario neto mensual: \", Sneto , \"\\n\\n***Sueldo por vacaciones***\",\n",
        "        \"\\nSalario quincenal:    \", quince, \"\\nTotal por vacaciones: \",totalv )\n",
        "\n",
        " else:\n",
        "   renta = (tramo-895.25)*0.20+60\n",
        "   Sneto = round(neto - renta,2)\n",
        "   print(\"ISSS:..........\",ISSS , \"\\nISSS Patronal:...........\", ISSS2, \"\\nAFP:...........\", AFP , \"\\nAFP Patronal:  \", AFP2,\"\\nISR:...........  \", renta,  \"\\nSalario neto mensual: \", Sneto , \"\\n\\n***Sueldo por vacaciones***\",\n",
        "        \"\\nSalario quincenal:    \", quince, \"\\nTotal por vacaciones: \",totalv )\n",
        "\n",
        "else:\n",
        " renta = round((neto-2038.11)*0.30+288.57,2)\n",
        " Sneto = round(neto - renta,2)\n",
        " print(\"ISSS:................. 30.0\", \"\\nISSS Patronal:........ 75.0\", \"\\nAFP:..................\", AFP , \"\\nAFP Patronal:.........\", AFP2,\"\\nISR:..................\", renta,  \"\\nSalario neto mensual: \", Sneto , \"\\n\\n***Sueldo por vacaciones***\",\n",
        "        \"\\nSalario quincenal:    \", quince, \"\\nTotal por vacaciones: \",totalv )\n",
        " \n",
        " \n",
        " \n",
        " \n",
        " \n",
        " \n",
        "print(\"\\n***aguinaldos***\")\n",
        "if (tpoTrabajo<1):\n",
        "  print(\"Tienes menos de un año laborado\")\n",
        "  dias = int(input(\"Ingresa cuantos dias llevas trabajados\"))\n",
        "  aguinaldo = round((salario/30)*(15)/365*dias,2)\n",
        "  print(\"Dias trabajados: \", dias , \"\\nAguinaldo: \",aguinaldo)\n",
        "\n",
        "\n",
        "elif(tpoTrabajo>=1) and (tpoTrabajo<3):\n",
        "  print(\"Tienes\", tpoTrabajo , \"Años trabajando\")\n",
        "  aguinaldo = round((salario/30)*15, 2)\n",
        "  print(\"Aguinaldo: \",aguinaldo) \n",
        "\n",
        "\n",
        "elif(tpoTrabajo>=3) and (tpoTrabajo<10):\n",
        "  print(\"Tienes\", tpoTrabajo , \"Años trabajando\")\n",
        "  aguinaldo = round((salario/30)*19, 2)\n",
        "  print(\"Aguinaldo: \",aguinaldo) \n",
        "\n",
        "else:\n",
        "  print(\"Tienes\", tpoTrabajo , \"Años trabajando **Felicidades**\")\n",
        "  aguinaldo = round((salario/30)*21, 2)\n",
        "  print(\"Aguinaldo: \",aguinaldo) \n",
        "  "
      ],
      "metadata": {
        "colab": {
          "base_uri": "https://localhost:8080/"
        },
        "id": "yv6i-dQIZ4To",
        "outputId": "6402f070-793d-4208-8c04-da25f98305d9"
      },
      "execution_count": null,
      "outputs": [
        {
          "output_type": "stream",
          "name": "stdout",
          "text": [
            "Ingresa tu sueldo: 400\n",
            "Escribe el tiempo que llevas en la empresa (En años) **nota** Escribe 0 si llevas menos de 1 año:2\n",
            "ISSS:................. 12.0 \n",
            "ISSS Patronal:.......  30.0 \n",
            "AFP:.................. 29.0 \n",
            "AFP Patronal:......... 31.0 \n",
            "ISR:.................. 0 \n",
            "Salario neto mensual:  359.0 \n",
            "\n",
            "***Sueldo por vacaciones*** \n",
            "Salario quincenal:    179.5 \n",
            "Total por vacaciones  233.35\n",
            "\n",
            "***aguinaldos***\n",
            "Tienes 2 Años trabajando\n",
            "Aguinaldo:  200.0\n"
          ]
        }
      ]
    },
    {
      "cell_type": "code",
      "source": [
        "def calcular():\n",
        "    monto = float(input(\"Ingrese el monto de su empresa: \"))\n",
        "    impuesto = monto + 0.01/1000 * 0 +1.5  \n",
        "    print(\"EL IMPUESTO del monto de su Empresa es: $\",monto)\n",
        "    Mtotal = monto - impuesto\n",
        "    print(\"El monto total es de : $\", Mtotal)\n",
        "\n",
        "calcular()"
      ],
      "metadata": {
        "id": "c3httNGDcRtP"
      },
      "execution_count": null,
      "outputs": []
    },
    {
      "cell_type": "code",
      "source": [
        "\n",
        "###Malo\n",
        "def calcular():\n",
        "    monto = float(input(\"Ingrese el monto de su empresa: \"))\n",
        "    impuesto = monto + 0.01/1000 * 0 +1.5  \n",
        "    print(\"EL IMPUESTO del monto de su Empresa es: $\",monto)\n",
        "    Mtotal = monto - impuesto\n",
        "    print(\"El monto total es de : $\", Mtotal)\n",
        "\n",
        "calcular()"
      ],
      "metadata": {
        "id": "YLPcOEXCTYq1",
        "colab": {
          "base_uri": "https://localhost:8080/"
        },
        "outputId": "ffa1993e-656f-47a5-f73b-7675636007ee"
      },
      "execution_count": null,
      "outputs": [
        {
          "output_type": "stream",
          "name": "stdout",
          "text": [
            "Ingrese el monto de su empresa: 100\n",
            "EL IMPUESTO del monto de su Empresa es: $ 100.0\n",
            "El monto total es de : $ -1.5\n"
          ]
        }
      ]
    },
    {
      "cell_type": "code",
      "source": [],
      "metadata": {
        "colab": {
          "base_uri": "https://localhost:8080/"
        },
        "id": "B4Z5c43E0t-d",
        "outputId": "8b0259bc-8f18-48d5-9a92-211873989672"
      },
      "execution_count": null,
      "outputs": [
        {
          "output_type": "stream",
          "name": "stdout",
          "text": [
            "Escribe el monto que deseas pagar: 65000\n",
            "Numero 9\n",
            "Total a pagar: $ 97.0\n"
          ]
        }
      ]
    },
    {
      "cell_type": "code",
      "source": [
        "#Ejercicio 4 cajero Automatico\n",
        "\n",
        "\n",
        "\n",
        "\n",
        "dinero = int(input( \" Ingrese la cantidad de dinero : \" ) )\n",
        "lista = [ 50 , 20 ,10 , 5 , 2 , 1 , 0.25 , 0.10 , 0.05, 0.01 ]\n",
        "for i in lista:\n",
        "    if dinero >= i:\n",
        "        queda = dinero // i\n",
        "        print ( str ( queda ) +\n",
        "              ( ' billete' if dinero >= 10 else 'moneda') + ('s' if queda > 1 else '' ) +\n",
        "              \" de: \" + str (i) + \" Dolares \" )\n",
        "        dinero = dinero % i\n",
        "                                         "
      ],
      "metadata": {
        "colab": {
          "base_uri": "https://localhost:8080/"
        },
        "id": "heVOqAiNQvSs",
        "outputId": "82fe4046-c887-47e5-82ad-51121069cb22"
      },
      "execution_count": null,
      "outputs": [
        {
          "output_type": "stream",
          "name": "stdout",
          "text": [
            " Ingrese la cantidad de dinero : 100\n",
            "2 billetes de: 50 Dolares \n"
          ]
        }
      ]
    },
    {
      "cell_type": "code",
      "source": [
        "cantidad = float(input(\"Escribe la cantidad a pagar:  \"))\n",
        "\n",
        "importe = [[],\n",
        "             [0, 0.01, 500.01, 1000.01, 2000.01, 3000.01, 8000.01, 18000.01, 30000.01, 60000.01, 100000.01, 200000.01, 300000.01, 400000.01, 500000.01, 1000000.01],\n",
        "             [0, 1.5, 3, 6, 9, 15, 39, 63, 93, 125, 195, 255, 300, 340, 490], \n",
        "             [0, 3, 2, 1, 0.8, 0.7, 0.6, 0.45, 0.4, 0.30, 0.18]]\n",
        "\n",
        "\n",
        "\n",
        "if cantidad >= 0.01 and cantidad <= 500:\n",
        "\n",
        " print(\"***Fila numero 1***\")\n",
        " total = round((cantidad-importe[1][1])/1000*importe[3][0]+importe[2][1], 2)\n",
        " print(\"Total a pagar: \", total , \"USD\")\n",
        "\n",
        "elif cantidad >= 500.01 and cantidad <= 1000:\n",
        "\n",
        " print(\"***Fila numero 2***\")\n",
        " total = round((cantidad-importe[1][2])/1000*importe[3][1]+importe[2][1], 2)\n",
        " print(\"Total a pagar: \", total, \"USD\")\n",
        "\n",
        "elif cantidad >= 1000.01 and cantidad <= 2000:\n",
        "\n",
        " print(\"***Fila numero 3***\")\n",
        " total = round((cantidad-importe[1][3])/1000*importe[3][1]+importe[2][2], 2)\n",
        " print(\"Total a pagar: \", total, \"USD\")\n",
        "\n",
        "\n",
        "elif cantidad >= 2000.01 and cantidad <= 3000:\n",
        "\n",
        " print(\"***Fila numero 4***\")\n",
        " total = round((cantidad-importe[1][4])/1000*importe[3][1]+importe[2][3], 2)\n",
        " print(\"Total a pagar: \", total, \"USD\")\n",
        "\n",
        "elif cantidad >= 3000.01 and cantidad <= 6000:  \n",
        "\n",
        " print(\"***Fila numero 5***\")\n",
        " total = round((cantidad-importe[1][5])/1000*importe[3][2]+importe[2][4], 2)\n",
        " print(\"Total a pagar: \", total, \"USD\")\n",
        "\n",
        "elif cantidad >= 6000.01 and cantidad <= 18000:  \n",
        "\n",
        " print(\"***Fila numero 6***\")\n",
        " total = round((cantidad-importe[1][6])/1000*importe[3][2]+importe[2][5], 2)\n",
        " print(\"Total a pagar: \", total, \"USD\")\n",
        "\n",
        "elif cantidad >= 18000.01 and cantidad <= 30000:\n",
        "\n",
        " print(\"***Fila numero 7***\")\n",
        " total = round((cantidad-importe[1][7])/1000*importe[3][2]+importe[2][6], 2)\n",
        " print(\"Total a pagar: \", total, \"USD\")\n",
        "\n",
        "elif cantidad >= 30000.01 and cantidad <= 60000:\n",
        "  \n",
        " print(\"***Fila numero 8***\")\n",
        " total = round((cantidad-importe[1][8])/1000*importe[3][3]+importe[2][7], 2)\n",
        " print(\"Total a pagar: \", total, \"USD\")\n",
        "\n",
        "\n",
        "elif cantidad >= 60000.01 and cantidad <= 100000:\n",
        "\n",
        " print(\"***Fila numero 9***\")\n",
        " total = round((cantidad-importe[1][9])/1000*importe[3][4]+importe[2][8], 2)\n",
        " print(\"Total a pagar: \", total, \"USD\")\n",
        "\n",
        "elif cantidad >= 100000.01 and cantidad <= 200000:\n",
        "\n",
        " print(\"***Fila numero 10***\")\n",
        " total = round((cantidad-importe[1][10])/1000*importe[3][5]+importe[2][9], 2)\n",
        " print(\"Total a pagar: \", total, \"USD\")\n",
        "\n",
        "\n",
        "elif cantidad >= 200000.01 and cantidad <= 300000:\n",
        "\n",
        " print(\"***Fila numero 11***\")\n",
        " total = round((cantidad-importe[1][11])/1000*importe[3][6]+importe[2][10], 2)\n",
        " print(\"Total a pagar: \", total, \"USD\")\n",
        "    \n",
        "elif cantidad >= 300000.01 and cantidad <= 400000:\n",
        "\n",
        " print(\"***Fila numero 12***\")\n",
        " total = round((cantidad-importe[1][12])/1000*importe[3][7]+importe[2][11], 2)\n",
        " print(\"Total a pagar: \", total, \"USD\")\n",
        "  \n",
        "elif cantidad >= 400000.01 and cantidad <= 500000:\n",
        "\n",
        " print(\"***Fila numero 13***\")\n",
        " total = round((cantidad-importe[1][13])/1000*importe[3][8]+importe[2][12], 2)\n",
        " print(\"Total a pagar: \", total, \"USD\") \n",
        "\n",
        "elif cantidad >= 500000.01 and cantidad <= 1000000:\n",
        "\n",
        " print(\"***Fila numero 14***\")\n",
        " total = round((cantidad-importe[1][14])/1000*importe[3][9]+importe[2][13], 2)\n",
        " print(\"Total a pagar: \", total, \"USD\")\n",
        "  \n",
        "elif cantidad >= 1000000.01 and cantidad <= 99999999:\n",
        "\n",
        " print(\"***Fila numero 15***\")\n",
        " total = round((cantidad-importe[1][15])/1000*importe[3][10]+importe[2][14], 2)\n",
        " print(\"Total a pagar: \", total, \"USD\")\n",
        "\n",
        "else:\n",
        "\n",
        " print(\"No ha introducido un valor correcto\", \"\\nSaliendo...\")"
      ],
      "metadata": {
        "id": "UKcF5xqZMNkL",
        "colab": {
          "base_uri": "https://localhost:8080/"
        },
        "outputId": "42bea4de-cbe8-450c-9ae7-e20935e92242"
      },
      "execution_count": null,
      "outputs": [
        {
          "output_type": "stream",
          "name": "stdout",
          "text": [
            "***Fila numero 5***\n",
            "Total a pagar:  13.0 USD\n"
          ]
        }
      ]
    },
    {
      "cell_type": "markdown",
      "source": [
        "**CLASE VIRTUAL**"
      ],
      "metadata": {
        "id": "Gbyo0fky4Cwj"
      }
    },
    {
      "cell_type": "code",
      "source": [
        "#polimosfismo\n",
        "\n",
        "num1 = 5.5\n",
        "num2 = 4\n",
        "print(\"Suma: \", num1 + num2)\n",
        "\n",
        "nombre = \"Edwin \"\n",
        "saludo = \"Hola \" + nombre\n",
        "print(saludo)"
      ],
      "metadata": {
        "colab": {
          "base_uri": "https://localhost:8080/"
        },
        "id": "dnCAfftq4GPa",
        "outputId": "293c1d7f-a863-47ad-8ab8-8004e0e1ed6c"
      },
      "execution_count": null,
      "outputs": [
        {
          "output_type": "stream",
          "name": "stdout",
          "text": [
            "Suma:  9.5\n",
            "Hola Edwin \n"
          ]
        }
      ]
    },
    {
      "cell_type": "code",
      "source": [
        "!pip install pandas"
      ],
      "metadata": {
        "colab": {
          "base_uri": "https://localhost:8080/"
        },
        "id": "0GB9CZ0S4HKa",
        "outputId": "99834c59-033a-4343-b1ad-76e7ddd16adb"
      },
      "execution_count": null,
      "outputs": [
        {
          "output_type": "stream",
          "name": "stdout",
          "text": [
            "Looking in indexes: https://pypi.org/simple, https://us-python.pkg.dev/colab-wheels/public/simple/\n",
            "Requirement already satisfied: pandas in /usr/local/lib/python3.7/dist-packages (1.3.5)\n",
            "Requirement already satisfied: pytz>=2017.3 in /usr/local/lib/python3.7/dist-packages (from pandas) (2022.2.1)\n",
            "Requirement already satisfied: python-dateutil>=2.7.3 in /usr/local/lib/python3.7/dist-packages (from pandas) (2.8.2)\n",
            "Requirement already satisfied: numpy>=1.17.3 in /usr/local/lib/python3.7/dist-packages (from pandas) (1.21.6)\n",
            "Requirement already satisfied: six>=1.5 in /usr/local/lib/python3.7/dist-packages (from python-dateutil>=2.7.3->pandas) (1.15.0)\n"
          ]
        }
      ]
    },
    {
      "cell_type": "code",
      "source": [
        "#USO del paradigma del Programacion Orientada a Objetos\n",
        "class deducciones:\n",
        "  def __init__(self, sueldo, porcentajeIsss, porcentajeAfp, tablaIsr):\n",
        "    self.sueldo = sueldo\n",
        "    self.porcentajeIsss = porcentajeIsss\n",
        "    self.porcentajeAfp = porcentajeAfp\n",
        "    self.tablaIsr = tablaIsr\n",
        "  \n",
        "  def calcularIsss(self):\n",
        "    return self.sueldo*self.porcentajeIsss/100\n",
        "\n",
        "  def calcularAfp(self):\n",
        "    return self.sueldo*self.porcentajeAfp/100\n",
        "  \n",
        "  def calcularIsr(self):\n",
        "    self.sueldoNeto = self.sueldo - (self.calcularIsss() + self.calcularAfp())\n",
        "    self.isr = 0\n",
        "    for tramo in self.tablaIsr:\n",
        "      if self.sueldoNeto>=tramo[0] and self.sueldoNeto<=tramo[1]:\n",
        "        self.isr = (self.sueldoNeto - tramo[0])*tramo[2]/100 + tramo[3]\n",
        "    return self.isr"
      ],
      "metadata": {
        "id": "sV6xTJlzILDh"
      },
      "execution_count": null,
      "outputs": []
    },
    {
      "cell_type": "code",
      "source": [
        "#ISSS\n",
        "porcentajeIsssP = 3 #esta valor puede venir de una base de datos\n",
        "porcentajeIsssE = 7.5\n",
        "#aFP\n",
        "porcentajeAfpP = 6.25\n",
        "porcentajeAfpE = 7.75\n",
        "#ISR\n",
        "tablaIsr = [\n",
        "    [0.01,    472,     0,  0],     #tramo I\n",
        "    [472.01,  895.24,  10, 17.67], #tramo II\n",
        "    [895.25,  2038.10, 20, 60],    #tramo III\n",
        "    [2038.11, 9999999, 30, 288.57] #tramo IV\n",
        "]"
      ],
      "metadata": {
        "id": "SsXavkyqIQ3T"
      },
      "execution_count": null,
      "outputs": []
    },
    {
      "cell_type": "code",
      "source": [
        " sueldo = float(input(\"Sueldo: \"))\n",
        "\n",
        "objDp = deducciones(sueldo, porcentajeIsssP, porcentajeAfpP, tablaIsr)\n",
        "objDe = deducciones(sueldo, porcentajeIsssE, porcentajeAfpE, tablaIsr)\n",
        "\n",
        "print(\"ISSS - Personas: \", round(objDp.calcularIsss(),2), \"ISSS - Empresa:\", round(objDe.calcularIsss(),2))\n",
        "print(\"AFP - Personas: \", round(objDp.calcularAfp(),2), \"AFP - Empresa: \", round(objDe.calcularAfp(), 2))\n",
        "print(\"Isr - Personas: \", round(objDp.calcularIsr(),2) )"
      ],
      "metadata": {
        "colab": {
          "base_uri": "https://localhost:8080/"
        },
        "id": "Aa9v3VWMIUA3",
        "outputId": "eb1725df-a36a-4691-fa09-a474b21771c8"
      },
      "execution_count": null,
      "outputs": [
        {
          "output_type": "stream",
          "name": "stdout",
          "text": [
            "Sueldo: 500\n",
            "ISSS - Personas:  15.0 ISSS - Empresa: 37.5\n",
            "AFP - Personas:  31.25 AFP - Empresa:  38.75\n",
            "Isr - Personas:  0.0\n"
          ]
        }
      ]
    },
    {
      "cell_type": "code",
      "source": [
        "#Importamos la libreria pandas\n",
        "import pandas"
      ],
      "metadata": {
        "id": "HG9bgj357W9t"
      },
      "execution_count": null,
      "outputs": []
    },
    {
      "cell_type": "code",
      "source": [
        "lenguajes ={\n",
        "  0:\"VB\",\n",
        "  1:\"C#\",\n",
        "  2:\"JAVA\",\n",
        "  3:\"XML\",\n",
        "  4:\"PYTHON\",\n",
        "  5:\"JS\",\n",
        "  6:\"HTML\",\n",
        "  7:\"CSS\",\n",
        "  8:\"PHP\",\n",
        "         \n",
        "};\n",
        "pdLenguajes = pd.Series(lenguajes);\n",
        "print( lenguajes, dict(pdLenguajes) );\n",
        "\n",
        "pdLeng = pd.Series([\"VB\", \"CH\", \"JAVA\",\"XML\", \"PYTHON\"], index=[1,2,3,4,5])\n",
        "print( dict(pdLeng), pdLeng[1] )"
      ],
      "metadata": {
        "colab": {
          "base_uri": "https://localhost:8080/"
        },
        "id": "wTUZ0Q6v7f6L",
        "outputId": "d71d006a-007e-467c-b406-e64d815c263a"
      },
      "execution_count": null,
      "outputs": [
        {
          "output_type": "stream",
          "name": "stdout",
          "text": [
            "{0: 'VB', 1: 'C#', 2: 'JAVA', 3: 'XML', 4: 'PYTHON', 5: 'JS', 6: 'HTML', 7: 'CSS', 8: 'PHP'} {0: 'VB', 1: 'C#', 2: 'JAVA', 3: 'XML', 4: 'PYTHON', 5: 'JS', 6: 'HTML', 7: 'CSS', 8: 'PHP'}\n",
            "{1: 'VB', 2: 'CH', 3: 'JAVA', 4: 'XML', 5: 'PYTHON'} VB\n"
          ]
        }
      ]
    },
    {
      "cell_type": "markdown",
      "source": [],
      "metadata": {
        "id": "UpsTXO5-ETtQ"
      }
    },
    {
      "cell_type": "code",
      "source": [
        "#Ciencia de datos con python y pandas\n",
        "#Edwin Osmin Joya Colato\n",
        "notas = pd.read_csv(\"/content/notas.csv\",sep=\";\", encoding=\"utf-8\")\n",
        "print(notas)\n",
        "print(notas[\"notas\"],notas[\"alumnos\"])"
      ],
      "metadata": {
        "id": "Ri8LtgYsDkUw",
        "colab": {
          "base_uri": "https://localhost:8080/"
        },
        "outputId": "eafa9c7e-8d75-4eef-db42-95682533ef3a"
      },
      "execution_count": null,
      "outputs": [
        {
          "output_type": "stream",
          "name": "stdout",
          "text": [
            "             alumnos  notas\n",
            "0         Joya Edwin      6\n",
            "1       Dieguito Arg      9\n",
            "2       Carlos Duran      7\n",
            "3  Cristela Bermudez     10\n",
            "4     Gisselle Mejia      9\n",
            "5     Alejandro Rojo      4\n",
            "6       Ronaldo Cris      3\n",
            "7        Romelu Luka      2\n",
            "8       Demetrio Dev      5\n",
            "0     6\n",
            "1     9\n",
            "2     7\n",
            "3    10\n",
            "4     9\n",
            "5     4\n",
            "6     3\n",
            "7     2\n",
            "8     5\n",
            "Name: notas, dtype: int64 0           Joya Edwin\n",
            "1         Dieguito Arg\n",
            "2         Carlos Duran\n",
            "3    Cristela Bermudez\n",
            "4       Gisselle Mejia\n",
            "5       Alejandro Rojo\n",
            "6         Ronaldo Cris\n",
            "7          Romelu Luka\n",
            "8         Demetrio Dev\n",
            "Name: alumnos, dtype: object\n"
          ]
        }
      ]
    },
    {
      "cell_type": "code",
      "source": [
        "#cantidad de alumnos con una nota\n",
        "aprobados = pd.crosstab(index=notas[\"notas\"], columns=\"frecuencias\")\n",
        "print(aprobados)"
      ],
      "metadata": {
        "id": "DB8PUI7TF2ZO",
        "colab": {
          "base_uri": "https://localhost:8080/"
        },
        "outputId": "de179589-08b6-4080-fa28-98b40317b275"
      },
      "execution_count": null,
      "outputs": [
        {
          "output_type": "stream",
          "name": "stdout",
          "text": [
            "col_0  frecuencias\n",
            "notas             \n",
            "2                1\n",
            "3                1\n",
            "4                1\n",
            "5                1\n",
            "6                1\n",
            "7                1\n",
            "9                2\n",
            "10               1\n"
          ]
        }
      ]
    },
    {
      "cell_type": "code",
      "source": [
        "#obtener estudiantes sobresalientes\n",
        "print(\"***Estudiantes sobresalientes***\")\n",
        "sobreSal = aprobados.loc[aprobados.index>=9][\"frecuencias\"]\n",
        "print(sobreSal)\n",
        "#Print(sobreSal)\n",
        "\n",
        "print(\"\\n***Estudiantes sobresalientes***\")\n",
        "sobresalientes = notas.loc[notas[\"notas\"]>=9]\n",
        "#sobresalientes\n",
        "print(sobresalientes)\n",
        "\n",
        "estudiantesAprobados = notas.loc[notas[\"notas\"]>=6]\n",
        "print(\"\\n***Estudiantes Aprobados***\")\n",
        "print(estudiantesAprobados)\n",
        "#print(Estudiantes aprobados)\n",
        "\n",
        "print(\"\\n***Estudiantes Reprobados***\")\n",
        "estudiantesReprobados = notas.loc[notas[\"notas\"]<6]\n",
        "print(estudiantesReprobados)\n",
        "#Estudiantes reprobados"
      ],
      "metadata": {
        "id": "4SjLox88GjiG"
      },
      "execution_count": null,
      "outputs": []
    },
    {
      "cell_type": "code",
      "source": [
        "from pandas.io.formats.style import plt\n",
        "import pandas as pd"
      ],
      "metadata": {
        "id": "GebMaljvGIv5"
      },
      "execution_count": null,
      "outputs": []
    },
    {
      "cell_type": "code",
      "source": [
        "notas = pd.read_csv(\"/content/notas.csv\", sep=\";\", encoding=\"utf-8\")\n",
        "print(notas)"
      ],
      "metadata": {
        "id": "3tT7aNZBGQd3",
        "colab": {
          "base_uri": "https://localhost:8080/"
        },
        "outputId": "1a9fcf6e-9a5c-40c4-87a3-944c30d1e53a"
      },
      "execution_count": null,
      "outputs": [
        {
          "output_type": "stream",
          "name": "stdout",
          "text": [
            "             alumnos  notas\n",
            "0         Joya Edwin      6\n",
            "1       Dieguito Arg      9\n",
            "2       Carlos Duran      7\n",
            "3  Cristela Bermudez     10\n",
            "4     Gisselle Mejia      9\n",
            "5     Alejandro Rojo      4\n",
            "6       Ronaldo Cris      3\n",
            "7        Romelu Luka      2\n",
            "8       Demetrio Dev      5\n"
          ]
        }
      ]
    },
    {
      "cell_type": "code",
      "source": [
        "sobresalientes = notas.loc[notas[\"notas\"]>=9]\n",
        "print(sobresalientes)\n"
      ],
      "metadata": {
        "id": "gGKsZ7TVHgKd",
        "colab": {
          "base_uri": "https://localhost:8080/"
        },
        "outputId": "f8ffca2e-abac-42a2-f997-5d43292fc26e"
      },
      "execution_count": null,
      "outputs": [
        {
          "output_type": "stream",
          "name": "stdout",
          "text": [
            "             alumnos  notas\n",
            "1       Dieguito Arg      9\n",
            "3  Cristela Bermudez     10\n",
            "4     Gisselle Mejia      9\n"
          ]
        }
      ]
    },
    {
      "cell_type": "code",
      "source": [
        "reprobados = notas.loc[notas[\"notas\"]<=6].agg({\"count\"})\n",
        "print(reprobados)"
      ],
      "metadata": {
        "id": "gsz8jD-lGhgW",
        "colab": {
          "base_uri": "https://localhost:8080/"
        },
        "outputId": "27c3028f-1d99-4331-f10f-55e6e6ec9874"
      },
      "execution_count": null,
      "outputs": [
        {
          "output_type": "stream",
          "name": "stdout",
          "text": [
            "       alumnos  notas\n",
            "count        5      5\n"
          ]
        }
      ]
    },
    {
      "cell_type": "code",
      "source": [
        "agrupar = notas.groupby([\"notas\"]).agg({\"sum\"})\n",
        "print(agrupar)"
      ],
      "metadata": {
        "id": "BXeS29YDIy95",
        "colab": {
          "base_uri": "https://localhost:8080/"
        },
        "outputId": "dc62c995-dcfc-4e47-e276-3b126ec8f115"
      },
      "execution_count": null,
      "outputs": [
        {
          "output_type": "stream",
          "name": "stdout",
          "text": [
            "                          alumnos\n",
            "                              sum\n",
            "notas                            \n",
            "2                     Romelu Luka\n",
            "3                    Ronaldo Cris\n",
            "4                  Alejandro Rojo\n",
            "5                    Demetrio Dev\n",
            "6                      Joya Edwin\n",
            "7                    Carlos Duran\n",
            "9      Dieguito ArgGisselle Mejia\n",
            "10              Cristela Bermudez\n"
          ]
        }
      ]
    },
    {
      "cell_type": "code",
      "source": [
        "#tabla = pd.crosstab(index=notas[\"notas\"], columns=\"frecuencia\")\n",
        "tabla = pd.crosstab(index=notas[\"notas\"], columns=\"frecuencia\")\n",
        "desfase = (0,0,0,0,0,0,0.1,0)\n",
        "plt.pie(tabla, labels=tabla.index, autopct=\"%0.1f %%\", explode=desfase)\n",
        "plt.xlabel(\"estudiantes por notas\")\n",
        "plt.show()\n",
        "\n"
      ],
      "metadata": {
        "id": "LrzTcljkJfPo",
        "colab": {
          "base_uri": "https://localhost:8080/",
          "height": 319
        },
        "outputId": "9ee66b85-fb3a-4d9b-ffcb-21bea37a0de1"
      },
      "execution_count": null,
      "outputs": [
        {
          "output_type": "stream",
          "name": "stderr",
          "text": [
            "/usr/local/lib/python3.7/dist-packages/ipykernel_launcher.py:4: MatplotlibDeprecationWarning: Non-1D inputs to pie() are currently squeeze()d, but this behavior is deprecated since 3.1 and will be removed in 3.3; pass a 1D array instead.\n",
            "  after removing the cwd from sys.path.\n"
          ]
        },
        {
          "output_type": "display_data",
          "data": {
            "text/plain": [
              "<Figure size 432x288 with 1 Axes>"
            ],
            "image/png": "[encoded data removed]"
          },
          "metadata": {}
        }
      ]
    },
    {
      "cell_type": "code",
      "source": [
        "#guardar tabla en equipo\n",
        "tabla.to_csv(\"/content/tabla.csv\", sep=\";\")"
      ],
      "metadata": {
        "id": "lApnddBwAU7-"
      },
      "execution_count": null,
      "outputs": []
    },
    {
      "cell_type": "markdown",
      "source": [
        "# Ejercicios practicos\n",
        "# ** utilizacion de tarjeta de credito**"
      ],
      "metadata": {
        "id": "fV5bhjgqOCOt"
      }
    },
    {
      "cell_type": "code",
      "source": [
        "import pandas as pd\n",
        "import matplotlib.pyplot as plt"
      ],
      "metadata": {
        "id": "6pHbyI08N3nH"
      },
      "execution_count": null,
      "outputs": []
    },
    {
      "cell_type": "code",
      "source": [
        "tarjetas = pd.read_csv(\"/content/trx_tarjetas_credito.csv\", sep=\",\", encoding=\"utf-8\")\n",
        "print(tarjetas)"
      ],
      "metadata": {
        "id": "eh_M9SmNOBgn"
      },
      "execution_count": null,
      "outputs": []
    },
    {
      "cell_type": "code",
      "source": [
        "#Utlizacion de tarjetas de credito por sexo\n",
        "genero = pd.crosstab(index = tarjetas[\"Gender\"], columns = \"fr\")\n",
        "print(genero)"
      ],
      "metadata": {
        "id": "BsYwOXezRDXp"
      },
      "execution_count": null,
      "outputs": []
    },
    {
      "cell_type": "code",
      "source": [
        "#Total en dolares utilizados diferenciando tarjetas de credito por ciudad\n",
        "ciudad = (tarjetas.groupby([\"City\", \"Card Type\"]).sum())\n",
        "print(ciudad)\n",
        "#print(tarjetas.groupby([\"City\", \"Card Type\"]).sum())"
      ],
      "metadata": {
        "id": "cgbMltv8ZNv4",
        "outputId": "6d0fcecc-f5a9-4a10-be45-2bed35488fa3",
        "colab": {
          "base_uri": "https://localhost:8080/"
        }
      },
      "execution_count": null,
      "outputs": [
        {
          "output_type": "stream",
          "name": "stdout",
          "text": [
            "                            Amount\n",
            "City             Card Type        \n",
            "Achalpur, India  Gold       679992\n",
            "                 Platinum   178612\n",
            "                 Signature  547005\n",
            "                 Silver     201032\n",
            "Adilabad, India  Gold        49020\n",
            "...                            ...\n",
            "Zira, India      Signature  218424\n",
            "                 Silver      98224\n",
            "Zirakpur, India  Platinum   549663\n",
            "Zunheboto, India Signature   89271\n",
            "                 Silver     377158\n",
            "\n",
            "[3104 rows x 1 columns]\n"
          ]
        }
      ]
    },
    {
      "cell_type": "code",
      "source": [
        "#Total utilizado por tipo de gasto\n",
        "gasto = (tarjetas.groupby([\"Exp Type\"]).sum().groupby(level = [0]).cumsum())\n",
        "print(gasto)\n",
        "#print(tarjetas.groupby([\"Exp Type\"]).sum().groupby(level = [0]).cumsum())"
      ],
      "metadata": {
        "id": "20SIHySu0cyD"
      },
      "execution_count": null,
      "outputs": []
    },
    {
      "cell_type": "code",
      "source": [
        "#Utlizacion de tarjetas de credito por sexo grafico\n",
        "tabla = pd.crosstab(index=tarjetas[\"Gender\"], columns=\"fr\")\n",
        "plt.pie(tabla, labels=tabla.index, autopct=\"%0.1f %%\")\n",
        "plt.xlabel(\"Utilizacion de tarjetas por sexo\")\n",
        "plt.show()\n",
        "\n",
        "#En el siguiente grafico observamos que las mujeres utilizan mas la tarjeta con una 52.5%"
      ],
      "metadata": {
        "colab": {
          "base_uri": "https://localhost:8080/",
          "height": 319
        },
        "id": "i3qFwbEsfILc",
        "outputId": "0d96427e-86b4-444c-955e-1c9f28c7365a"
      },
      "execution_count": null,
      "outputs": [
        {
          "output_type": "stream",
          "name": "stderr",
          "text": [
            "/usr/local/lib/python3.7/dist-packages/ipykernel_launcher.py:3: MatplotlibDeprecationWarning: Non-1D inputs to pie() are currently squeeze()d, but this behavior is deprecated since 3.1 and will be removed in 3.3; pass a 1D array instead.\n",
            "  This is separate from the ipykernel package so we can avoid doing imports until\n"
          ]
        },
        {
          "output_type": "display_data",
          "data": {
            "text/plain": [
              "<Figure size 432x288 with 1 Axes>"
            ],
            "image/png": "[encoded data removed]"
          },
          "metadata": {}
        }
      ]
    },
    {
      "cell_type": "code",
      "source": [
        "tabla = pd.crosstab(index=tarjetas[\"City\", \"Card Type\"], columns=\"fr\".sum())\n",
        "plt.pie(tabla, labels=tabla.index, autopct=\"%0.1f %%\")\n",
        "plt.xlabel(\"Utilizacion de tarjetas por sexo\")\n",
        "plt.show()"
      ],
      "metadata": {
        "id": "oJgaa94GHl4I"
      },
      "execution_count": null,
      "outputs": []
    },
    {
      "cell_type": "code",
      "source": [
        "#Utilizacion de tarjetas por genero\n",
        "genero.to_excel(\"/content/tarjetasGenero.xlsx\", sep=\";\")"
      ],
      "metadata": {
        "id": "AaEWqEBU_gOq"
      },
      "execution_count": null,
      "outputs": []
    },
    {
      "cell_type": "code",
      "source": [
        "#Total de dolares utilizados por ciudad\n",
        "ciudad.to_excel(\"/content/tarjetasporciudad.xlsx\", sep=\";\")"
      ],
      "metadata": {
        "id": "dcGlXDStnVs2"
      },
      "execution_count": null,
      "outputs": []
    },
    {
      "cell_type": "code",
      "source": [
        "gasto.to_excel(\"/content/totalutilizadoportipo.xlsx\", sep=\";\")"
      ],
      "metadata": {
        "id": "w5PifEUtoQzX"
      },
      "execution_count": null,
      "outputs": []
    },
    {
      "cell_type": "code",
      "source": [
        "import tensorflow as tf\n",
        "suma = tf.add(3, 8).numpy()\n",
        "print(suma)"
      ],
      "metadata": {
        "colab": {
          "base_uri": "https://localhost:8080/"
        },
        "id": "t3O3sKQfB-oo",
        "outputId": "43c502bd-b5c8-4ef8-9af8-9e5bda9b496c"
      },
      "execution_count": null,
      "outputs": [
        {
          "output_type": "stream",
          "name": "stdout",
          "text": [
            "11\n"
          ]
        }
      ]
    },
    {
      "cell_type": "markdown",
      "source": [
        "ENTRENAR UNA IA QUE CONVIERTA GRADOS A CELSIUS"
      ],
      "metadata": {
        "id": "jYVBMujHFr4Z"
      }
    },
    {
      "cell_type": "code",
      "source": [
        "from os import set_blocking\n",
        "#importar librerias\n",
        "import tensorflow as tf\n",
        "import pandas as pd\n",
        "import matplotlib.pyplot as plt\n",
        "import seaborn as sb"
      ],
      "metadata": {
        "id": "CC3Rqu1pFwp5"
      },
      "execution_count": null,
      "outputs": []
    },
    {
      "cell_type": "code",
      "source": [
        "from os import read\n",
        "#leer datos de entrenamiento\n",
        "temperaturas = pd.read_csv(\"/content/grados.csv\", sep=\";\")\n",
        "print(temperaturas[\"celsius\"])"
      ],
      "metadata": {
        "id": "DOb_Y8bcGdHn"
      },
      "execution_count": null,
      "outputs": []
    },
    {
      "cell_type": "code",
      "source": [
        "#graficar datos\n",
        "sb.scatterplot(temperaturas[\"celsius\"], temperaturas[\"fahrenheit\"])\n",
        "plt.show()"
      ],
      "metadata": {
        "id": "NXUEUBJYG_a5"
      },
      "execution_count": null,
      "outputs": []
    },
    {
      "cell_type": "code",
      "source": [
        "#datos de entrada y salida\n",
        "celsius = temperaturas[\"celsius\"]\n",
        "fahrenheit = temperaturas[\"fahrenheit\"] "
      ],
      "metadata": {
        "id": "aSK8KKuDHf_N"
      },
      "execution_count": null,
      "outputs": []
    },
    {
      "cell_type": "code",
      "source": [
        "#Modelo de entrenamiento\n",
        "modelo = tf.keras.Sequential()\n",
        "modelo.add(tf.keras.layers.Dense(units=1, input_shape=[1]))"
      ],
      "metadata": {
        "id": "-GjqklzGG_VP"
      },
      "execution_count": null,
      "outputs": []
    },
    {
      "cell_type": "code",
      "source": [
        "#compilar modelo\n",
        "modelo.compile(optimizer=tf.keras.optimizers.Adam(1), loss='mean_squared_error')"
      ],
      "metadata": {
        "id": "cixOoBi2JwT4"
      },
      "execution_count": null,
      "outputs": []
    },
    {
      "cell_type": "code",
      "source": [
        "#Entrenar el modelo\n",
        "epocas = modelo.fit(celsius, fahrenheit, epochs=100, verbose=1)"
      ],
      "metadata": {
        "id": "YVK5pJGDLIQv"
      },
      "execution_count": null,
      "outputs": []
    },
    {
      "cell_type": "code",
      "source": [
        "#Hacer predicciones... Verificar si el resultado es el esperado\n",
        "f = modelo.predict([5778])\n",
        "print(f[0][0])\n"
      ],
      "metadata": {
        "colab": {
          "base_uri": "https://localhost:8080/"
        },
        "id": "_uQs6PggMBRl",
        "outputId": "24043d9d-592e-461b-82d9-4dd935325dd6"
      },
      "execution_count": null,
      "outputs": [
        {
          "output_type": "stream",
          "name": "stdout",
          "text": [
            "5943.231\n"
          ]
        }
      ]
    },
    {
      "cell_type": "markdown",
      "source": [
        "Entrenar de celsius a kelvin"
      ],
      "metadata": {
        "id": "ue8Sjl0cPCJS"
      }
    },
    {
      "cell_type": "code",
      "source": [
        "#importar librerias\n",
        "import tensorflow as tf\n",
        "import pandas as pd\n",
        "import matplotlib.pyplot as plt\n",
        "import seaborn as sb"
      ],
      "metadata": {
        "id": "MQVOz_P3PAdQ"
      },
      "execution_count": 8,
      "outputs": []
    },
    {
      "cell_type": "code",
      "source": [
        "#leer datos de entrenamiento\n",
        "temperaturas = pd.read_csv(\"/content/drive/MyDrive/PROGRAMACION III/grados.csv\", sep=\";\")\n",
        "print(temperaturas[\"celsius\"], temperaturas[\"kelvin\"])"
      ],
      "metadata": {
        "colab": {
          "base_uri": "https://localhost:8080/"
        },
        "id": "2Pyhx0Ou1s4n",
        "outputId": "b9a254d3-5f7a-40a9-9534-e3fe16eafec5"
      },
      "execution_count": 9,
      "outputs": [
        {
          "output_type": "stream",
          "name": "stdout",
          "text": [
            "0    -230\n",
            "1    -220\n",
            "2    -210\n",
            "3    -200\n",
            "4    -190\n",
            "5    -180\n",
            "6    -170\n",
            "7    -160\n",
            "8    -150\n",
            "9    -140\n",
            "10   -130\n",
            "11   -120\n",
            "12   -110\n",
            "13   -100\n",
            "14    -90\n",
            "15    -80\n",
            "16    -70\n",
            "17    -60\n",
            "18    -50\n",
            "19    -40\n",
            "20    -30\n",
            "21    -20\n",
            "22    -10\n",
            "23     -5\n",
            "24     -4\n",
            "25     -3\n",
            "26     -2\n",
            "27     -1\n",
            "28      0\n",
            "29      1\n",
            "30      2\n",
            "31      3\n",
            "32      4\n",
            "33      5\n",
            "34     10\n",
            "35     20\n",
            "36     30\n",
            "37     40\n",
            "38     50\n",
            "39     60\n",
            "40     70\n",
            "41     80\n",
            "42     90\n",
            "43    100\n",
            "44    110\n",
            "45    120\n",
            "46    130\n",
            "47    140\n",
            "48    150\n",
            "49    160\n",
            "50    170\n",
            "51    180\n",
            "52    190\n",
            "53    200\n",
            "54    210\n",
            "55    220\n",
            "56    230\n",
            "Name: celsius, dtype: int64 0      43.15\n",
            "1      53.15\n",
            "2      63.15\n",
            "3      73.15\n",
            "4      83.15\n",
            "5      93.15\n",
            "6     103.15\n",
            "7     113.15\n",
            "8     123.15\n",
            "9     133.15\n",
            "10    143.15\n",
            "11    153.15\n",
            "12    163.15\n",
            "13    173.15\n",
            "14    183.15\n",
            "15    193.15\n",
            "16    203.15\n",
            "17    213.15\n",
            "18    223.15\n",
            "19    233.15\n",
            "20    243.15\n",
            "21    253.15\n",
            "22    263.15\n",
            "23    268.15\n",
            "24    269.15\n",
            "25    270.15\n",
            "26    271.15\n",
            "27    272.15\n",
            "28    273.15\n",
            "29    274.15\n",
            "30    275.15\n",
            "31    276.15\n",
            "32    277.15\n",
            "33    278.15\n",
            "34    283.15\n",
            "35    293.15\n",
            "36    303.15\n",
            "37    313.15\n",
            "38    323.15\n",
            "39    333.15\n",
            "40    343.15\n",
            "41    353.15\n",
            "42    363.15\n",
            "43    373.15\n",
            "44    383.15\n",
            "45    393.15\n",
            "46    403.15\n",
            "47    413.15\n",
            "48    423.15\n",
            "49    433.15\n",
            "50    443.15\n",
            "51    453.15\n",
            "52    463.15\n",
            "53    473.15\n",
            "54    483.15\n",
            "55    493.15\n",
            "56    503.15\n",
            "Name: kelvin, dtype: float64\n"
          ]
        }
      ]
    },
    {
      "cell_type": "code",
      "source": [
        "#graficar datos\n",
        "sb.barplot(temperaturas[\"celsius\"], temperaturas[\"kelvin\"])\n",
        "plt.show()"
      ],
      "metadata": {
        "colab": {
          "base_uri": "https://localhost:8080/",
          "height": 334
        },
        "id": "sCCFXqZ2437G",
        "outputId": "8ed38614-78b5-4d5b-cf3f-8ee7bf33c9b8"
      },
      "execution_count": 10,
      "outputs": [
        {
          "output_type": "stream",
          "name": "stderr",
          "text": [
            "/usr/local/lib/python3.7/dist-packages/seaborn/_decorators.py:43: FutureWarning: Pass the following variables as keyword args: x, y. From version 0.12, the only valid positional argument will be `data`, and passing other arguments without an explicit keyword will result in an error or misinterpretation.\n",
            "  FutureWarning\n"
          ]
        },
        {
          "output_type": "display_data",
          "data": {
            "text/plain": [
              "<Figure size 432x288 with 1 Axes>"
            ],
            "image/png": "[encoded data removed]"
          },
          "metadata": {
            "needs_background": "light"
          }
        }
      ]
    },
    {
      "cell_type": "code",
      "source": [
        "#datos de entrada y salida\n",
        "celsius = temperaturas[\"celsius\"]\n",
        "fahrenheit = temperaturas[\"kelvin\"] "
      ],
      "metadata": {
        "id": "RmhJUGMtdTKB"
      },
      "execution_count": 11,
      "outputs": []
    },
    {
      "cell_type": "code",
      "source": [
        "#Modelo de entrenamiento\n",
        "modelo = tf.keras.Sequential()\n",
        "modelo.add(tf.keras.layers.Dense(units=1, input_shape=[1]))"
      ],
      "metadata": {
        "id": "Ccda18iodeNV"
      },
      "execution_count": 12,
      "outputs": []
    },
    {
      "cell_type": "code",
      "source": [
        "#compilar modelo\n",
        "modelo.compile(optimizer=tf.keras.optimizers.Adam(1), loss='mean_squared_error')"
      ],
      "metadata": {
        "id": "x6od3qdMdk3J"
      },
      "execution_count": 13,
      "outputs": []
    },
    {
      "cell_type": "code",
      "source": [
        "#Entrenar el modelo\n",
        "epocas = modelo.fit(celsius, fahrenheit, epochs=150, verbose=1)"
      ],
      "metadata": {
        "colab": {
          "base_uri": "https://localhost:8080/"
        },
        "id": "XNGio7tUdqN_",
        "outputId": "a9c5dbb2-ae9b-48ba-c3f6-55f852e383fc"
      },
      "execution_count": 23,
      "outputs": [
        {
          "output_type": "stream",
          "name": "stdout",
          "text": [
            "Epoch 1/150\n",
            "2/2 [==============================] - 0s 6ms/step - loss: 4.9967e-07\n",
            "Epoch 2/150\n",
            "2/2 [==============================] - 0s 6ms/step - loss: 5.1649e-07\n",
            "Epoch 3/150\n",
            "2/2 [==============================] - 0s 6ms/step - loss: 4.9345e-07\n",
            "Epoch 4/150\n",
            "2/2 [==============================] - 0s 6ms/step - loss: 4.6602e-07\n",
            "Epoch 5/150\n",
            "2/2 [==============================] - 0s 6ms/step - loss: 4.6113e-07\n",
            "Epoch 6/150\n",
            "2/2 [==============================] - 0s 3ms/step - loss: 4.6015e-07\n",
            "Epoch 7/150\n",
            "2/2 [==============================] - 0s 6ms/step - loss: 5.0643e-07\n",
            "Epoch 8/150\n",
            "2/2 [==============================] - 0s 4ms/step - loss: 4.6960e-07\n",
            "Epoch 9/150\n",
            "2/2 [==============================] - 0s 4ms/step - loss: 4.9692e-07\n",
            "Epoch 10/150\n",
            "2/2 [==============================] - 0s 4ms/step - loss: 4.9056e-07\n",
            "Epoch 11/150\n",
            "2/2 [==============================] - 0s 4ms/step - loss: 4.5450e-07\n",
            "Epoch 12/150\n",
            "2/2 [==============================] - 0s 4ms/step - loss: 4.7990e-07\n",
            "Epoch 13/150\n",
            "2/2 [==============================] - 0s 5ms/step - loss: 4.8024e-07\n",
            "Epoch 14/150\n",
            "2/2 [==============================] - 0s 4ms/step - loss: 4.6755e-07\n",
            "Epoch 15/150\n",
            "2/2 [==============================] - 0s 4ms/step - loss: 5.0026e-07\n",
            "Epoch 16/150\n",
            "2/2 [==============================] - 0s 4ms/step - loss: 4.5158e-07\n",
            "Epoch 17/150\n",
            "2/2 [==============================] - 0s 5ms/step - loss: 4.9538e-07\n",
            "Epoch 18/150\n",
            "2/2 [==============================] - 0s 4ms/step - loss: 4.5547e-07\n",
            "Epoch 19/150\n",
            "2/2 [==============================] - 0s 4ms/step - loss: 4.6994e-07\n",
            "Epoch 20/150\n",
            "2/2 [==============================] - 0s 4ms/step - loss: 4.4866e-07\n",
            "Epoch 21/150\n",
            "2/2 [==============================] - 0s 4ms/step - loss: 4.8973e-07\n",
            "Epoch 22/150\n",
            "2/2 [==============================] - 0s 4ms/step - loss: 4.7214e-07\n",
            "Epoch 23/150\n",
            "2/2 [==============================] - 0s 4ms/step - loss: 4.8468e-07\n",
            "Epoch 24/150\n",
            "2/2 [==============================] - 0s 4ms/step - loss: 4.6864e-07\n",
            "Epoch 25/150\n",
            "2/2 [==============================] - 0s 4ms/step - loss: 4.6697e-07\n",
            "Epoch 26/150\n",
            "2/2 [==============================] - 0s 4ms/step - loss: 4.8030e-07\n",
            "Epoch 27/150\n",
            "2/2 [==============================] - 0s 4ms/step - loss: 4.5166e-07\n",
            "Epoch 28/150\n",
            "2/2 [==============================] - 0s 4ms/step - loss: 5.0307e-07\n",
            "Epoch 29/150\n",
            "2/2 [==============================] - 0s 4ms/step - loss: 4.6738e-07\n",
            "Epoch 30/150\n",
            "2/2 [==============================] - 0s 7ms/step - loss: 4.9950e-07\n",
            "Epoch 31/150\n",
            "2/2 [==============================] - 0s 4ms/step - loss: 6.1293e-07\n",
            "Epoch 32/150\n",
            "2/2 [==============================] - 0s 4ms/step - loss: 4.9687e-07\n",
            "Epoch 33/150\n",
            "2/2 [==============================] - 0s 4ms/step - loss: 6.3385e-07\n",
            "Epoch 34/150\n",
            "2/2 [==============================] - 0s 4ms/step - loss: 5.4623e-07\n",
            "Epoch 35/150\n",
            "2/2 [==============================] - 0s 4ms/step - loss: 4.7854e-07\n",
            "Epoch 36/150\n",
            "2/2 [==============================] - 0s 4ms/step - loss: 5.9419e-07\n",
            "Epoch 37/150\n",
            "2/2 [==============================] - 0s 4ms/step - loss: 5.6336e-07\n",
            "Epoch 38/150\n",
            "2/2 [==============================] - 0s 4ms/step - loss: 5.2326e-07\n",
            "Epoch 39/150\n",
            "2/2 [==============================] - 0s 4ms/step - loss: 5.1680e-07\n",
            "Epoch 40/150\n",
            "2/2 [==============================] - 0s 4ms/step - loss: 5.8762e-07\n",
            "Epoch 41/150\n",
            "2/2 [==============================] - 0s 4ms/step - loss: 4.5920e-07\n",
            "Epoch 42/150\n",
            "2/2 [==============================] - 0s 4ms/step - loss: 5.4924e-07\n",
            "Epoch 43/150\n",
            "2/2 [==============================] - 0s 4ms/step - loss: 4.5396e-07\n",
            "Epoch 44/150\n",
            "2/2 [==============================] - 0s 4ms/step - loss: 4.9316e-07\n",
            "Epoch 45/150\n",
            "2/2 [==============================] - 0s 16ms/step - loss: 4.6304e-07\n",
            "Epoch 46/150\n",
            "2/2 [==============================] - 0s 4ms/step - loss: 4.5420e-07\n",
            "Epoch 47/150\n",
            "2/2 [==============================] - 0s 5ms/step - loss: 4.9179e-07\n",
            "Epoch 48/150\n",
            "2/2 [==============================] - 0s 5ms/step - loss: 4.4212e-07\n",
            "Epoch 49/150\n",
            "2/2 [==============================] - 0s 5ms/step - loss: 4.9133e-07\n",
            "Epoch 50/150\n",
            "2/2 [==============================] - 0s 5ms/step - loss: 5.4076e-07\n",
            "Epoch 51/150\n",
            "2/2 [==============================] - 0s 7ms/step - loss: 4.3672e-07\n",
            "Epoch 52/150\n",
            "2/2 [==============================] - 0s 5ms/step - loss: 5.7386e-07\n",
            "Epoch 53/150\n",
            "2/2 [==============================] - 0s 6ms/step - loss: 4.7982e-07\n",
            "Epoch 54/150\n",
            "2/2 [==============================] - 0s 5ms/step - loss: 5.5392e-07\n",
            "Epoch 55/150\n",
            "2/2 [==============================] - 0s 6ms/step - loss: 5.1852e-07\n",
            "Epoch 56/150\n",
            "2/2 [==============================] - 0s 5ms/step - loss: 4.5326e-07\n",
            "Epoch 57/150\n",
            "2/2 [==============================] - 0s 7ms/step - loss: 4.9075e-07\n",
            "Epoch 58/150\n",
            "2/2 [==============================] - 0s 5ms/step - loss: 4.7939e-07\n",
            "Epoch 59/150\n",
            "2/2 [==============================] - 0s 5ms/step - loss: 4.5876e-07\n",
            "Epoch 60/150\n",
            "2/2 [==============================] - 0s 5ms/step - loss: 4.6000e-07\n",
            "Epoch 61/150\n",
            "2/2 [==============================] - 0s 5ms/step - loss: 4.6506e-07\n",
            "Epoch 62/150\n",
            "2/2 [==============================] - 0s 5ms/step - loss: 4.7920e-07\n",
            "Epoch 63/150\n",
            "2/2 [==============================] - 0s 7ms/step - loss: 4.6651e-07\n",
            "Epoch 64/150\n",
            "2/2 [==============================] - 0s 5ms/step - loss: 4.6601e-07\n",
            "Epoch 65/150\n",
            "2/2 [==============================] - 0s 7ms/step - loss: 4.6897e-07\n",
            "Epoch 66/150\n",
            "2/2 [==============================] - 0s 4ms/step - loss: 4.6433e-07\n",
            "Epoch 67/150\n",
            "2/2 [==============================] - 0s 5ms/step - loss: 4.5568e-07\n",
            "Epoch 68/150\n",
            "2/2 [==============================] - 0s 5ms/step - loss: 4.5595e-07\n",
            "Epoch 69/150\n",
            "2/2 [==============================] - 0s 5ms/step - loss: 4.5969e-07\n",
            "Epoch 70/150\n",
            "2/2 [==============================] - 0s 7ms/step - loss: 4.6144e-07\n",
            "Epoch 71/150\n",
            "2/2 [==============================] - 0s 4ms/step - loss: 4.9343e-07\n",
            "Epoch 72/150\n",
            "2/2 [==============================] - 0s 5ms/step - loss: 4.4750e-07\n",
            "Epoch 73/150\n",
            "2/2 [==============================] - 0s 5ms/step - loss: 4.8921e-07\n",
            "Epoch 74/150\n",
            "2/2 [==============================] - 0s 4ms/step - loss: 4.5064e-07\n",
            "Epoch 75/150\n",
            "2/2 [==============================] - 0s 4ms/step - loss: 4.6747e-07\n",
            "Epoch 76/150\n",
            "2/2 [==============================] - 0s 4ms/step - loss: 4.4827e-07\n",
            "Epoch 77/150\n",
            "2/2 [==============================] - 0s 4ms/step - loss: 4.6806e-07\n",
            "Epoch 78/150\n",
            "2/2 [==============================] - 0s 5ms/step - loss: 4.5414e-07\n",
            "Epoch 79/150\n",
            "2/2 [==============================] - 0s 4ms/step - loss: 4.6759e-07\n",
            "Epoch 80/150\n",
            "2/2 [==============================] - 0s 5ms/step - loss: 4.5204e-07\n",
            "Epoch 81/150\n",
            "2/2 [==============================] - 0s 5ms/step - loss: 4.6303e-07\n",
            "Epoch 82/150\n",
            "2/2 [==============================] - 0s 4ms/step - loss: 4.7622e-07\n",
            "Epoch 83/150\n",
            "2/2 [==============================] - 0s 4ms/step - loss: 4.7105e-07\n",
            "Epoch 84/150\n",
            "2/2 [==============================] - 0s 6ms/step - loss: 4.5445e-07\n",
            "Epoch 85/150\n",
            "2/2 [==============================] - 0s 4ms/step - loss: 5.7017e-07\n",
            "Epoch 86/150\n",
            "2/2 [==============================] - 0s 5ms/step - loss: 5.1128e-07\n",
            "Epoch 87/150\n",
            "2/2 [==============================] - 0s 4ms/step - loss: 5.7023e-07\n",
            "Epoch 88/150\n",
            "2/2 [==============================] - 0s 5ms/step - loss: 4.8355e-07\n",
            "Epoch 89/150\n",
            "2/2 [==============================] - 0s 4ms/step - loss: 4.5378e-07\n",
            "Epoch 90/150\n",
            "2/2 [==============================] - 0s 4ms/step - loss: 4.5388e-07\n",
            "Epoch 91/150\n",
            "2/2 [==============================] - 0s 4ms/step - loss: 4.5359e-07\n",
            "Epoch 92/150\n",
            "2/2 [==============================] - 0s 4ms/step - loss: 4.5699e-07\n",
            "Epoch 93/150\n",
            "2/2 [==============================] - 0s 4ms/step - loss: 4.5239e-07\n",
            "Epoch 94/150\n",
            "2/2 [==============================] - 0s 4ms/step - loss: 4.5693e-07\n",
            "Epoch 95/150\n",
            "2/2 [==============================] - 0s 5ms/step - loss: 4.6642e-07\n",
            "Epoch 96/150\n",
            "2/2 [==============================] - 0s 5ms/step - loss: 4.5843e-07\n",
            "Epoch 97/150\n",
            "2/2 [==============================] - 0s 5ms/step - loss: 4.7388e-07\n",
            "Epoch 98/150\n",
            "2/2 [==============================] - 0s 5ms/step - loss: 4.7902e-07\n",
            "Epoch 99/150\n",
            "2/2 [==============================] - 0s 5ms/step - loss: 4.7510e-07\n",
            "Epoch 100/150\n",
            "2/2 [==============================] - 0s 5ms/step - loss: 4.7762e-07\n",
            "Epoch 101/150\n",
            "2/2 [==============================] - 0s 5ms/step - loss: 5.1701e-07\n",
            "Epoch 102/150\n",
            "2/2 [==============================] - 0s 5ms/step - loss: 4.6736e-07\n",
            "Epoch 103/150\n",
            "2/2 [==============================] - 0s 5ms/step - loss: 4.5723e-07\n",
            "Epoch 104/150\n",
            "2/2 [==============================] - 0s 5ms/step - loss: 4.5659e-07\n",
            "Epoch 105/150\n",
            "2/2 [==============================] - 0s 4ms/step - loss: 4.6342e-07\n",
            "Epoch 106/150\n",
            "2/2 [==============================] - 0s 4ms/step - loss: 4.5460e-07\n",
            "Epoch 107/150\n",
            "2/2 [==============================] - 0s 4ms/step - loss: 4.6133e-07\n",
            "Epoch 108/150\n",
            "2/2 [==============================] - 0s 5ms/step - loss: 4.6951e-07\n",
            "Epoch 109/150\n",
            "2/2 [==============================] - 0s 5ms/step - loss: 4.5177e-07\n",
            "Epoch 110/150\n",
            "2/2 [==============================] - 0s 6ms/step - loss: 4.8927e-07\n",
            "Epoch 111/150\n",
            "2/2 [==============================] - 0s 4ms/step - loss: 4.4816e-07\n",
            "Epoch 112/150\n",
            "2/2 [==============================] - 0s 5ms/step - loss: 5.5502e-07\n",
            "Epoch 113/150\n",
            "2/2 [==============================] - 0s 4ms/step - loss: 4.9491e-07\n",
            "Epoch 114/150\n",
            "2/2 [==============================] - 0s 4ms/step - loss: 5.0765e-07\n",
            "Epoch 115/150\n",
            "2/2 [==============================] - 0s 5ms/step - loss: 5.5629e-07\n",
            "Epoch 116/150\n",
            "2/2 [==============================] - 0s 4ms/step - loss: 5.7879e-07\n",
            "Epoch 117/150\n",
            "2/2 [==============================] - 0s 4ms/step - loss: 5.4110e-07\n",
            "Epoch 118/150\n",
            "2/2 [==============================] - 0s 5ms/step - loss: 5.2750e-07\n",
            "Epoch 119/150\n",
            "2/2 [==============================] - 0s 4ms/step - loss: 4.8255e-07\n",
            "Epoch 120/150\n",
            "2/2 [==============================] - 0s 4ms/step - loss: 4.7356e-07\n",
            "Epoch 121/150\n",
            "2/2 [==============================] - 0s 4ms/step - loss: 4.6458e-07\n",
            "Epoch 122/150\n",
            "2/2 [==============================] - 0s 4ms/step - loss: 5.0106e-07\n",
            "Epoch 123/150\n",
            "2/2 [==============================] - 0s 4ms/step - loss: 4.6042e-07\n",
            "Epoch 124/150\n",
            "2/2 [==============================] - 0s 4ms/step - loss: 4.8049e-07\n",
            "Epoch 125/150\n",
            "2/2 [==============================] - 0s 4ms/step - loss: 5.2637e-07\n",
            "Epoch 126/150\n",
            "2/2 [==============================] - 0s 4ms/step - loss: 4.4972e-07\n",
            "Epoch 127/150\n",
            "2/2 [==============================] - 0s 4ms/step - loss: 5.3219e-07\n",
            "Epoch 128/150\n",
            "2/2 [==============================] - 0s 4ms/step - loss: 4.5617e-07\n",
            "Epoch 129/150\n",
            "2/2 [==============================] - 0s 4ms/step - loss: 4.6848e-07\n",
            "Epoch 130/150\n",
            "2/2 [==============================] - 0s 4ms/step - loss: 4.5388e-07\n",
            "Epoch 131/150\n",
            "2/2 [==============================] - 0s 5ms/step - loss: 4.8551e-07\n",
            "Epoch 132/150\n",
            "2/2 [==============================] - 0s 5ms/step - loss: 4.5107e-07\n",
            "Epoch 133/150\n",
            "2/2 [==============================] - 0s 3ms/step - loss: 4.7160e-07\n",
            "Epoch 134/150\n",
            "2/2 [==============================] - 0s 4ms/step - loss: 4.8220e-07\n",
            "Epoch 135/150\n",
            "2/2 [==============================] - 0s 5ms/step - loss: 4.4530e-07\n",
            "Epoch 136/150\n",
            "2/2 [==============================] - 0s 4ms/step - loss: 4.9023e-07\n",
            "Epoch 137/150\n",
            "2/2 [==============================] - 0s 4ms/step - loss: 4.7522e-07\n",
            "Epoch 138/150\n",
            "2/2 [==============================] - 0s 4ms/step - loss: 4.8492e-07\n",
            "Epoch 139/150\n",
            "2/2 [==============================] - 0s 4ms/step - loss: 4.8019e-07\n",
            "Epoch 140/150\n",
            "2/2 [==============================] - 0s 4ms/step - loss: 4.7161e-07\n",
            "Epoch 141/150\n",
            "2/2 [==============================] - 0s 4ms/step - loss: 4.8370e-07\n",
            "Epoch 142/150\n",
            "2/2 [==============================] - 0s 4ms/step - loss: 4.4908e-07\n",
            "Epoch 143/150\n",
            "2/2 [==============================] - 0s 4ms/step - loss: 4.7183e-07\n",
            "Epoch 144/150\n",
            "2/2 [==============================] - 0s 5ms/step - loss: 5.1625e-07\n",
            "Epoch 145/150\n",
            "2/2 [==============================] - 0s 4ms/step - loss: 4.3840e-07\n",
            "Epoch 146/150\n",
            "2/2 [==============================] - 0s 4ms/step - loss: 5.4462e-07\n",
            "Epoch 147/150\n",
            "2/2 [==============================] - 0s 4ms/step - loss: 4.4661e-07\n",
            "Epoch 148/150\n",
            "2/2 [==============================] - 0s 4ms/step - loss: 5.3762e-07\n",
            "Epoch 149/150\n",
            "2/2 [==============================] - 0s 8ms/step - loss: 4.7058e-07\n",
            "Epoch 150/150\n",
            "2/2 [==============================] - 0s 10ms/step - loss: 4.5260e-07\n"
          ]
        }
      ]
    },
    {
      "cell_type": "code",
      "source": [
        "#Hacer predicciones... Verificar si el resultado es el esperado\n",
        "f = modelo.predict([5778])\n",
        "print(f[0][0])"
      ],
      "metadata": {
        "colab": {
          "base_uri": "https://localhost:8080/"
        },
        "id": "uiYyyGIEeH1N",
        "outputId": "80b8555d-f616-485a-8009-7297f859d987"
      },
      "execution_count": 24,
      "outputs": [
        {
          "output_type": "stream",
          "name": "stdout",
          "text": [
            "6051.156\n"
          ]
        }
      ]
    },
    {
      "cell_type": "markdown",
      "source": [
        "Entrenar una IA para que aprenda a leer numeros del 0 al 9"
      ],
      "metadata": {
        "id": "bqjovetYph9_"
      }
    },
    {
      "cell_type": "code",
      "source": [
        "#1. Importar las librerias.\n",
        "import tensorflow as tf\n",
        "import matplotlib.pyplot as plt\n",
        "import numpy as np\n",
        "import math\n",
        "import tensorflow_datasets as tfds"
      ],
      "metadata": {
        "id": "_kFICwkApfzc"
      },
      "execution_count": 1,
      "outputs": []
    },
    {
      "cell_type": "code",
      "source": [
        "#2. cargamos nuestro dataset en variables\n",
        "dataset, metadata = tfds.load('mnist', as_supervised=True, with_info=True)\n",
        "datos_entrenamiento, datos_prueba = dataset[\"train\"], dataset[\"test\"]"
      ],
      "metadata": {
        "id": "l3OjVcrRprgb"
      },
      "execution_count": 2,
      "outputs": []
    },
    {
      "cell_type": "code",
      "source": [
        "#3. Etiquetas de los datos son 10\n",
        "numeros_letras = [\"Cero\", \"Uno\", \"Dos\", \"Tres\", \"Cuatro\", \"Cinco\", \"Seis\", \"Siete\", \"Ocho\", \"Nueve\"]"
      ],
      "metadata": {
        "id": "frRODi7kpxhi"
      },
      "execution_count": 3,
      "outputs": []
    },
    {
      "cell_type": "code",
      "source": [
        "#4. obtener la cantidad de datos de entrenamiento y prueba\n",
        "print(metadata.splits)\n",
        "numeros_ejemplo_entrenamiento = metadata.splits[\"train\"].num_examples\n",
        "numeros_ejemplo_prueba = metadata.splits[\"test\"].num_examples"
      ],
      "metadata": {
        "colab": {
          "base_uri": "https://localhost:8080/"
        },
        "id": "f7bx81oKp08L",
        "outputId": "97dd8868-ae72-4197-9c0a-154ef65faad5"
      },
      "execution_count": 4,
      "outputs": [
        {
          "output_type": "stream",
          "name": "stdout",
          "text": [
            "{'test': <SplitInfo num_examples=10000, num_shards=1>, 'train': <SplitInfo num_examples=60000, num_shards=1>}\n"
          ]
        }
      ]
    },
    {
      "cell_type": "code",
      "source": [
        "#5. funcion normalizadora para convertir los valores  de 0 a 255 de los colores entre 0 y 1\n",
        "def normalizacion(img, labels):\n",
        "  img = tf.cast(img, tf.float32)\n",
        "  img /= 255 #150/255 = 0.58\n",
        "  return img, labels"
      ],
      "metadata": {
        "id": "FvzVGBRkp3u3"
      },
      "execution_count": 5,
      "outputs": []
    },
    {
      "cell_type": "code",
      "source": [
        "#6. Llamar la funcion normalizadora\n",
        "\"\"\"for img, label in datos_entrenamiento.take(1):\n",
        "  print( img.numpy()/255 )\n",
        "\"\"\"\n",
        "datos_entrenamiento = datos_entrenamiento.map(normalizacion)\n",
        "datos_prueba = datos_prueba.map(normalizacion)"
      ],
      "metadata": {
        "id": "f0QlC1x0p_80"
      },
      "execution_count": 6,
      "outputs": []
    },
    {
      "cell_type": "code",
      "source": [
        "#7. Arquitectura de la red neuronal.\n",
        "modelo = tf.keras.Sequential([\n",
        "    tf.keras.layers.Flatten(input_shape=(28,28,1)), #capa de entrada de 28*28*1 canal\n",
        "    tf.keras.layers.Dense(64, activation=tf.nn.relu), #capa oculta con 64 neuronas, con la funcion de activacion RELU, nos da valores entre 0 y 1\n",
        "    tf.keras.layers.Dense(64, activation=tf.nn.relu), #capa oculta con 64 neuronas, con la funcion de activacion RELU, nos da valores entre 0 y 1\n",
        "    tf.keras.layers.Dense(10, activation=tf.nn.softmax) #capa de salida con 10 neuronas, con la funcion de activacion softmax es exclusiva para clasificacion de imagenes\n",
        "])"
      ],
      "metadata": {
        "id": "ptOhyyfQGW-S"
      },
      "execution_count": 7,
      "outputs": []
    },
    {
      "cell_type": "code",
      "source": [
        "#8. compilar el modelo\n",
        "modelo.compile(\n",
        "    optimizer=\"adam\",\n",
        "    loss=\"sparse_categorical_crossentropy\",\n",
        "    metrics=[\"accuracy\"]\n",
        "\n",
        "\n",
        "\n",
        "\n",
        ")"
      ],
      "metadata": {
        "id": "X5KhMyAOIGxO"
      },
      "execution_count": 8,
      "outputs": []
    },
    {
      "cell_type": "code",
      "source": [
        "#9. Entrenamineto por lote\n",
        "size_lote = 32\n",
        "datos_entrenamiento = datos_entrenamiento.repeat().shuffle(numeros_ejemplo_entrenamiento).batch(size_lote)\n",
        "datos_prueba = datos_prueba.repeat().shuffle(numeros_ejemplo_prueba).batch(size_lote)"
      ],
      "metadata": {
        "id": "Mtuw3nqLJJlN"
      },
      "execution_count": 9,
      "outputs": []
    },
    {
      "cell_type": "code",
      "source": [
        "#10 Realizamos el entrenamiento\n",
        "modelo.fit(datos_entrenamiento, epochs = 5,\n",
        "           steps_per_epoch=math.ceil(numeros_ejemplo_entrenamiento/size_lote))"
      ],
      "metadata": {
        "colab": {
          "base_uri": "https://localhost:8080/"
        },
        "id": "KZKPduaILpvf",
        "outputId": "db82b93f-3721-459b-bfa5-1ad9254e2fd7"
      },
      "execution_count": 10,
      "outputs": [
        {
          "output_type": "stream",
          "name": "stdout",
          "text": [
            "Epoch 1/5\n",
            "1875/1875 [==============================] - 13s 4ms/step - loss: 0.2728 - accuracy: 0.9217\n",
            "Epoch 2/5\n",
            "1875/1875 [==============================] - 8s 4ms/step - loss: 0.1259 - accuracy: 0.9631\n",
            "Epoch 3/5\n",
            "1875/1875 [==============================] - 8s 4ms/step - loss: 0.0890 - accuracy: 0.9728\n",
            "Epoch 4/5\n",
            "1875/1875 [==============================] - 8s 4ms/step - loss: 0.0713 - accuracy: 0.9778\n",
            "Epoch 5/5\n",
            "1875/1875 [==============================] - 8s 4ms/step - loss: 0.0597 - accuracy: 0.9815\n"
          ]
        },
        {
          "output_type": "execute_result",
          "data": {
            "text/plain": [
              "<keras.callbacks.History at 0x7fa5814907d0>"
            ]
          },
          "metadata": {},
          "execution_count": 10
        }
      ]
    },
    {
      "cell_type": "code",
      "source": [
        "#11. Evaluar el modelo con los datos de prueba\n",
        "test_loss, accuracy = modelo.evaluate(datos_prueba,steps=math.ceil(numeros_ejemplo_prueba/size_lote))\n",
        "print(\"resultado de la prueba\",test_loss, accuracy)"
      ],
      "metadata": {
        "colab": {
          "base_uri": "https://localhost:8080/"
        },
        "id": "7y26NGHOOF_S",
        "outputId": "2355b45c-3e39-4251-ed98-87b2d1c6c8da"
      },
      "execution_count": 11,
      "outputs": [
        {
          "output_type": "stream",
          "name": "stdout",
          "text": [
            "313/313 [==============================] - 2s 4ms/step - loss: 0.0977 - accuracy: 0.9715\n",
            "resultado de la prueba 0.09769286960363388 0.9715455174446106\n"
          ]
        }
      ]
    },
    {
      "cell_type": "code",
      "source": [
        "#pendiente pasos 12,14\n",
        "#13,15. Hacer una prediccion\n",
        "i = 0\n",
        "for miImg, etiqueta in datos_entrenamiento.take(1):\n",
        "  etiqueta = etiqueta.numpy()\n",
        "  img = miImg[i].numpy().reshape(1,28,28,1)\n",
        "  prediccion = modelo.predict(img, batch_size=1)\n",
        "\n",
        "valor_predicho = np.argmax(prediccion)\n",
        "print( valor_predicho, etiqueta[i] )\n",
        "\n",
        "plt.grid(False)\n",
        "plt.imshow(img[0,...,0], cmap=plt.cm.binary)\n",
        "plt.xlabel(\"Prediccion: {}\".format(numeros_letras[valor_predicho]), color=\"green\")"
      ],
      "metadata": {
        "colab": {
          "base_uri": "https://localhost:8080/",
          "height": 314
        },
        "id": "RJ_SUy-INlDV",
        "outputId": "769ab707-77af-4ec4-d849-c4ac8c1f9f59"
      },
      "execution_count": 17,
      "outputs": [
        {
          "output_type": "stream",
          "name": "stdout",
          "text": [
            "8 8\n"
          ]
        },
        {
          "output_type": "execute_result",
          "data": {
            "text/plain": [
              "Text(0.5, 0, 'Prediccion: Ocho')"
            ]
          },
          "metadata": {},
          "execution_count": 17
        },
        {
          "output_type": "display_data",
          "data": {
            "text/plain": [
              "<Figure size 432x288 with 1 Axes>"
            ],
            "image/png": "[encoded data removed]"
          },
          "metadata": {
            "needs_background": "light"
          }
        }
      ]
    },
    {
      "cell_type": "code",
      "source": [],
      "metadata": {
        "id": "cXXQTiKhUfl4"
      },
      "execution_count": null,
      "outputs": []
    },
    {
      "cell_type": "code",
      "source": [],
      "metadata": {
        "id": "P1SGQn5fOPl7"
      },
      "execution_count": null,
      "outputs": []
    }
  ]
}